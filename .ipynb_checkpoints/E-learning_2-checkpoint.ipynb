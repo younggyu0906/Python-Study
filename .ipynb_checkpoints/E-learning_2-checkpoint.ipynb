{
 "cells": [
  {
   "cell_type": "code",
   "execution_count": 2,
   "metadata": {
    "collapsed": false
   },
   "outputs": [
    {
     "name": "stdout",
     "output_type": "stream",
     "text": [
      "['False', 'None', 'True', 'and', 'as', 'assert', 'break', 'class', 'continue', 'def', 'del', 'elif', 'else', 'except', 'finally', 'for', 'from', 'global', 'if', 'import', 'in', 'is', 'lambda', 'nonlocal', 'not', 'or', 'pass', 'raise', 'return', 'try', 'while', 'with', 'yield']\n",
      "\n",
      "33\n"
     ]
    }
   ],
   "source": [
    "# 예약어\n",
    "# 파이썬에서 이미 문법적인 용도로 사용되고 있기 때문에\n",
    "# 변수명등의 식별자로 사용하면 안되는 단어들\n",
    "import keyword\n",
    "\n",
    "print(keyword.kwlist)\n",
    "print()\n",
    "print(len(keyword.kwlist))"
   ]
  },
  {
   "cell_type": "code",
   "execution_count": 3,
   "metadata": {
    "collapsed": false
   },
   "outputs": [
    {
     "name": "stdout",
     "output_type": "stream",
     "text": [
      "3\n",
      "3\n"
     ]
    }
   ],
   "source": [
    "# 내장함수 : 별도의 모듈(Module)의 추가 없이 기본적으로 제공되는 함수들\n",
    "# abs(x)  # 수치형 자료 X에 대해 X의 절대값을 반환하는 함수\n",
    "print(abs(3))\n",
    "print(abs(-3))"
   ]
  },
  {
   "cell_type": "code",
   "execution_count": 5,
   "metadata": {
    "collapsed": false
   },
   "outputs": [
    {
     "name": "stdout",
     "output_type": "stream",
     "text": [
      "2\n",
      "3\n",
      "y\n"
     ]
    }
   ],
   "source": [
    "# 내장함수\n",
    "# max(s)\n",
    "# 시퀸스 자료형(문자열, 리스트, 튜플)을 입력받아\n",
    "# 그 자료가 지닌 원소 중 최대값을 반환하는 함수\n",
    "print(max(1, 2))\n",
    "print(max([1, 2, 3]))\n",
    "print(max(\"python\")) # 알파벳은 a가 작고 z가 큼"
   ]
  },
  {
   "cell_type": "code",
   "execution_count": 4,
   "metadata": {
    "collapsed": false
   },
   "outputs": [
    {
     "name": "stdout",
     "output_type": "stream",
     "text": [
      "1\n",
      "1\n",
      "h\n"
     ]
    }
   ],
   "source": [
    "# 내장함수\n",
    "# min(s)\n",
    "# 시퀸스 자료형(문자열, 리스트, 튜플)을 입력받아\n",
    "# 그 자료가 지닌 원소 중 최소값을 반환하는 함수\n",
    "print(min(1, 2))\n",
    "print(min([1, 2, 3]))\n",
    "print(min(\"python\"))"
   ]
  },
  {
   "cell_type": "code",
   "execution_count": 6,
   "metadata": {
    "collapsed": false
   },
   "outputs": [
    {
     "name": "stdout",
     "output_type": "stream",
     "text": [
      "16\n",
      "27\n",
      "0.5\n"
     ]
    }
   ],
   "source": [
    "# 내장함수\n",
    "# pow(x, y)\n",
    "# 수치형 자료형 x, y에 대해 x의 y승을 반환하는 함수\n",
    "print(pow(2, 4))\n",
    "print(pow(3, 3))\n",
    "print(pow(2, -1))"
   ]
  },
  {
   "cell_type": "code",
   "execution_count": 7,
   "metadata": {
    "collapsed": false
   },
   "outputs": [
    {
     "name": "stdout",
     "output_type": "stream",
     "text": [
      "a\n",
      "A\n",
      "0\n"
     ]
    }
   ],
   "source": [
    "# 내장함수\n",
    "# chr(i)\n",
    "# 정수 형태의 ASCII 코드 값을 입력으로 받아 그에 해당하는 문자를 반환하는 함수\n",
    "# 인수 i이 범위 : 0~255\n",
    "print(chr(97))\n",
    "print(chr(65))\n",
    "print(chr(48))"
   ]
  },
  {
   "cell_type": "code",
   "execution_count": 8,
   "metadata": {
    "collapsed": false
   },
   "outputs": [
    {
     "name": "stdout",
     "output_type": "stream",
     "text": [
      "3\n",
      "[1, 2]\n"
     ]
    }
   ],
   "source": [
    "# 내장함수\n",
    "# str(object)\n",
    "# 임의의 객체 object에 대해 해당 객체를 표현하는 문자열을 반환하는 함수\n",
    "print(str(3))\n",
    "print(str([1, 2]))"
   ]
  },
  {
   "cell_type": "code",
   "execution_count": 12,
   "metadata": {
    "collapsed": false
   },
   "outputs": [
    {
     "name": "stdout",
     "output_type": "stream",
     "text": [
      "[0, 1, 2, 3, 4, 5, 6, 7, 8, 9]\n",
      "[3, 4, 5, 6, 7, 8, 9]\n",
      "[3, 5, 7, 9]\n"
     ]
    }
   ],
   "source": [
    "# 내장함수 range([start,]stop[,step])\n",
    "# 수치형 자료형으로 start, stop, step등을 입력받아 해당 범위에\n",
    "# 해당하는 정수를 리스트로 반한하는 함수\n",
    "# 인수가 하나(stop)인 경우 0부터 stop-1 까지의 정수리스트를 반환\n",
    "# 인수가 두 개(start, stop)인 경우 start부터 stop-1까지의 정수 리스트 반환\n",
    "# 인수가 세 개(start, stop, step)인 경우\n",
    "# start부터 stop-1 까지의 정수를 반환하되 각 정수 사이의 거리가 step인 것들만 반환\n",
    "# 파이썬3에서 range() 함수는 range형을 반환한다 따라서 파이썬3에서는\n",
    "# range형을 리스트로 만들기 위해서는 list 함수를 반드시 명시적으로 사용해야 한다\n",
    "# range(5)\n",
    "# >>> range(0, 5)\n",
    "# list(range(5))\n",
    "# >>> [0, 1, 2, 3, 4]\n",
    "print(list(range(10)))\n",
    "print(list(range(3, 10)))\n",
    "print(list(range(3, 10, 2)))"
   ]
  },
  {
   "cell_type": "code",
   "execution_count": 13,
   "metadata": {
    "collapsed": false
   },
   "outputs": [
    {
     "name": "stdout",
     "output_type": "stream",
     "text": [
      "<class 'int'>\n",
      "<class 'str'>\n",
      "<class 'list'>\n"
     ]
    }
   ],
   "source": [
    "# 내장함수 type(object)\n",
    "# 힘의의 객체 object의 자료형을 반환하는 함수\n",
    "print(type(-1))\n",
    "print(type('abc'))\n",
    "print(type([1, 2, 3]))"
   ]
  },
  {
   "cell_type": "code",
   "execution_count": 14,
   "metadata": {
    "collapsed": false
   },
   "outputs": [
    {
     "ename": "TypeError",
     "evalue": "'str' object is not callable",
     "output_type": "error",
     "traceback": [
      "\u001b[0;31m---------------------------------------------------------------------------\u001b[0m",
      "\u001b[0;31mTypeError\u001b[0m                                 Traceback (most recent call last)",
      "\u001b[0;32m<ipython-input-14-85ebfac7e607>\u001b[0m in \u001b[0;36m<module>\u001b[0;34m()\u001b[0m\n\u001b[1;32m      3\u001b[0m \u001b[0mstr\u001b[0m \u001b[1;33m=\u001b[0m \u001b[1;34m'abc'\u001b[0m\u001b[1;33m\u001b[0m\u001b[0m\n\u001b[1;32m      4\u001b[0m \u001b[1;33m\u001b[0m\u001b[0m\n\u001b[0;32m----> 5\u001b[0;31m \u001b[0mprint\u001b[0m\u001b[1;33m(\u001b[0m\u001b[0mstr\u001b[0m\u001b[1;33m(\u001b[0m\u001b[1;36m12345\u001b[0m\u001b[1;33m)\u001b[0m\u001b[1;33m)\u001b[0m\u001b[1;33m\u001b[0m\u001b[0m\n\u001b[0m",
      "\u001b[0;31mTypeError\u001b[0m: 'str' object is not callable"
     ]
    }
   ],
   "source": [
    "# 변수명 만들 때 조심할 점\n",
    "# 예약어, 내장함수, 모듈 이름을 변수명으로 만드는 일이 없도록 할 것\n",
    "str = 'abc'\n",
    "\n",
    "print(str(12345))"
   ]
  },
  {
   "cell_type": "code",
   "execution_count": 15,
   "metadata": {
    "collapsed": false
   },
   "outputs": [
    {
     "name": "stdout",
     "output_type": "stream",
     "text": [
      "1\n"
     ]
    }
   ],
   "source": [
    "# 파이썬에서 변수가 생성되는 시점은 해당 변수에 임의의 값이 할당될 때이다.\n",
    "a = 1\n",
    "print(a)"
   ]
  },
  {
   "cell_type": "code",
   "execution_count": 16,
   "metadata": {
    "collapsed": false
   },
   "outputs": [
    {
     "ename": "NameError",
     "evalue": "name 'b' is not defined",
     "output_type": "error",
     "traceback": [
      "\u001b[0;31m---------------------------------------------------------------------------\u001b[0m",
      "\u001b[0;31mNameError\u001b[0m                                 Traceback (most recent call last)",
      "\u001b[0;32m<ipython-input-16-5d115c13b974>\u001b[0m in \u001b[0;36m<module>\u001b[0;34m()\u001b[0m\n\u001b[1;32m      1\u001b[0m \u001b[1;31m# 변수의 생성 없이 곧바로 사용할 수 없다\u001b[0m\u001b[1;33m\u001b[0m\u001b[1;33m\u001b[0m\u001b[0m\n\u001b[0;32m----> 2\u001b[0;31m \u001b[0mprint\u001b[0m\u001b[1;33m(\u001b[0m\u001b[0mb\u001b[0m\u001b[1;33m)\u001b[0m\u001b[1;33m\u001b[0m\u001b[0m\n\u001b[0m",
      "\u001b[0;31mNameError\u001b[0m: name 'b' is not defined"
     ]
    }
   ],
   "source": [
    "# 변수의 생성 없이 곧바로 사용할 수 없다\n",
    "print(b)"
   ]
  },
  {
   "cell_type": "code",
   "execution_count": 17,
   "metadata": {
    "collapsed": false
   },
   "outputs": [
    {
     "name": "stdout",
     "output_type": "stream",
     "text": [
      "2\n"
     ]
    },
    {
     "ename": "NameError",
     "evalue": "name 'b' is not defined",
     "output_type": "error",
     "traceback": [
      "\u001b[0;31m---------------------------------------------------------------------------\u001b[0m",
      "\u001b[0;31mNameError\u001b[0m                                 Traceback (most recent call last)",
      "\u001b[0;32m<ipython-input-17-46d3ce50a332>\u001b[0m in \u001b[0;36m<module>\u001b[0;34m()\u001b[0m\n\u001b[1;32m      5\u001b[0m \u001b[1;33m\u001b[0m\u001b[0m\n\u001b[1;32m      6\u001b[0m \u001b[1;32mdel\u001b[0m \u001b[0mb\u001b[0m\u001b[1;33m\u001b[0m\u001b[0m\n\u001b[0;32m----> 7\u001b[0;31m \u001b[0mprint\u001b[0m\u001b[1;33m(\u001b[0m\u001b[0mb\u001b[0m\u001b[1;33m)\u001b[0m\u001b[1;33m\u001b[0m\u001b[0m\n\u001b[0m",
      "\u001b[0;31mNameError\u001b[0m: name 'b' is not defined"
     ]
    }
   ],
   "source": [
    "# 변수의 삭제\n",
    "# del 이라는 예약어 사용\n",
    "b = 2\n",
    "print(b)\n",
    "\n",
    "del b\n",
    "print(b)"
   ]
  },
  {
   "cell_type": "code",
   "execution_count": 18,
   "metadata": {
    "collapsed": true
   },
   "outputs": [],
   "source": [
    "# 이것은 주석입니다.\n",
    "import sys # 이것도 주석입니다."
   ]
  },
  {
   "cell_type": "code",
   "execution_count": 20,
   "metadata": {
    "collapsed": false
   },
   "outputs": [
    {
     "name": "stdout",
     "output_type": "stream",
     "text": [
      "connected lines\n"
     ]
    }
   ],
   "source": [
    "# 연속 라인\n",
    "a = 1\n",
    "b = 3\n",
    "if(a == 1) and \\\n",
    "(b == 3):\n",
    "    print('connected lines')"
   ]
  },
  {
   "cell_type": "code",
   "execution_count": 21,
   "metadata": {
    "collapsed": false
   },
   "outputs": [
    {
     "name": "stdout",
     "output_type": "stream",
     "text": [
      "connected lines\n"
     ]
    }
   ],
   "source": [
    "a = 1\n",
    "b = 3\n",
    "if(a == 1) and (b == 3):\n",
    "    print('connected lines')"
   ]
  },
  {
   "cell_type": "code",
   "execution_count": 22,
   "metadata": {
    "collapsed": false
   },
   "outputs": [
    {
     "name": "stdout",
     "output_type": "stream",
     "text": [
      "1\n",
      "1\n"
     ]
    }
   ],
   "source": [
    "a = 1\n",
    "b = a\n",
    "print(a)\n",
    "print(b)"
   ]
  },
  {
   "cell_type": "code",
   "execution_count": 23,
   "metadata": {
    "collapsed": false
   },
   "outputs": [
    {
     "ename": "SyntaxError",
     "evalue": "can't assign to operator (<ipython-input-23-3aa35fdab4b7>, line 1)",
     "output_type": "error",
     "traceback": [
      "\u001b[0;36m  File \u001b[0;32m\"<ipython-input-23-3aa35fdab4b7>\"\u001b[0;36m, line \u001b[0;32m1\u001b[0m\n\u001b[0;31m    1 + 3 = a\u001b[0m\n\u001b[0m             ^\u001b[0m\n\u001b[0;31mSyntaxError\u001b[0m\u001b[0;31m:\u001b[0m can't assign to operator\n"
     ]
    }
   ],
   "source": [
    "1 + 3 = a"
   ]
  },
  {
   "cell_type": "code",
   "execution_count": 28,
   "metadata": {
    "collapsed": true
   },
   "outputs": [],
   "source": [
    "a = 1 + 3"
   ]
  },
  {
   "cell_type": "code",
   "execution_count": 24,
   "metadata": {
    "collapsed": false
   },
   "outputs": [
    {
     "name": "stdout",
     "output_type": "stream",
     "text": [
      "2\n"
     ]
    }
   ],
   "source": [
    "a = 1\n",
    "a = a + 1\n",
    "print(a)"
   ]
  },
  {
   "cell_type": "code",
   "execution_count": 27,
   "metadata": {
    "collapsed": false
   },
   "outputs": [
    {
     "name": "stdout",
     "output_type": "stream",
     "text": [
      "3 4\n",
      "0 0 0\n",
      "3.5 5.6\n"
     ]
    }
   ],
   "source": [
    "c, d = 3, 4\n",
    "print(c, d)\n",
    "\n",
    "x = y = z = 0\n",
    "print(x, y, z)\n",
    "\n",
    "e = 3.5; f = 5.6\n",
    "print(e, f)"
   ]
  },
  {
   "cell_type": "code",
   "execution_count": 29,
   "metadata": {
    "collapsed": false
   },
   "outputs": [
    {
     "name": "stdout",
     "output_type": "stream",
     "text": [
      "5.6 3.5\n"
     ]
    }
   ],
   "source": [
    "# 두 변수의 값을 swap하는 방법\n",
    "e = 3.5; f = 5.6\n",
    "e, f = f, e\n",
    "print(e, f)"
   ]
  },
  {
   "cell_type": "code",
   "execution_count": 30,
   "metadata": {
    "collapsed": false
   },
   "outputs": [
    {
     "ename": "SyntaxError",
     "evalue": "invalid syntax (<ipython-input-30-9d941c3080ae>, line 2)",
     "output_type": "error",
     "traceback": [
      "\u001b[0;36m  File \u001b[0;32m\"<ipython-input-30-9d941c3080ae>\"\u001b[0;36m, line \u001b[0;32m2\u001b[0m\n\u001b[0;31m    a = (b = c + d)\u001b[0m\n\u001b[0m           ^\u001b[0m\n\u001b[0;31mSyntaxError\u001b[0m\u001b[0;31m:\u001b[0m invalid syntax\n"
     ]
    }
   ],
   "source": [
    "# b = c + d는 식(Expression)이 아니라 문(Statement)이기 때문에 a에 할당될 수 없다.\n",
    "a = (b = c + d)"
   ]
  },
  {
   "cell_type": "code",
   "execution_count": 32,
   "metadata": {
    "collapsed": false
   },
   "outputs": [
    {
     "name": "stdout",
     "output_type": "stream",
     "text": [
      "5\n"
     ]
    }
   ],
   "source": [
    "a = 1\n",
    "a += 4\n",
    "print(a)"
   ]
  },
  {
   "cell_type": "code",
   "execution_count": 34,
   "metadata": {
    "collapsed": false
   },
   "outputs": [
    {
     "name": "stdout",
     "output_type": "stream",
     "text": [
      "7\n"
     ]
    }
   ],
   "source": [
    "a = 10\n",
    "a -= 3\n",
    "print(a)"
   ]
  },
  {
   "cell_type": "code",
   "execution_count": 35,
   "metadata": {
    "collapsed": false
   },
   "outputs": [
    {
     "name": "stdout",
     "output_type": "stream",
     "text": [
      "50\n"
     ]
    }
   ],
   "source": [
    "a = 10\n",
    "a *= 2 + 3\n",
    "print(a)"
   ]
  },
  {
   "cell_type": "code",
   "execution_count": 3,
   "metadata": {
    "collapsed": false
   },
   "outputs": [
    {
     "name": "stdout",
     "output_type": "stream",
     "text": [
      "[1, 2, 3]\n",
      "[10, [1, 2, 3], 20]\n",
      "['x', [1, 2, 3], 'y']\n"
     ]
    }
   ],
   "source": [
    "# 객체와 할당\n",
    "# 객체의 변수는 해당 객체의 레퍼런스를 지니고 있음\n",
    "# a = 1 이라는 Statement(문)에서 a는 이름, 1은 객체이며\n",
    "# a변수는 1이라는 객체를 가리킨다.\n",
    "# 즉, a 변수는 1 객체의 레퍼런스를 지니고 있음\n",
    "a = [1, 2, 3]\n",
    "b = [10, a, 20]\n",
    "c = ['x', a, 'y']\n",
    "\n",
    "print(a)\n",
    "print(b)\n",
    "print(c)"
   ]
  },
  {
   "cell_type": "code",
   "execution_count": 4,
   "metadata": {
    "collapsed": false
   },
   "outputs": [
    {
     "name": "stdout",
     "output_type": "stream",
     "text": [
      "[1, 1000, 3]\n",
      "[10, [1, 1000, 3], 20]\n",
      "['x', [1, 1000, 3], 'y']\n"
     ]
    }
   ],
   "source": [
    "a[1] = 1000\n",
    "\n",
    "print(a)\n",
    "print(b)\n",
    "print(c)"
   ]
  },
  {
   "cell_type": "code",
   "execution_count": 5,
   "metadata": {
    "collapsed": false
   },
   "outputs": [
    {
     "name": "stdout",
     "output_type": "stream",
     "text": [
      "name?홍길동\n"
     ]
    }
   ],
   "source": [
    "# 문자열 입력도 input?\n",
    "name = input('name?')"
   ]
  },
  {
   "cell_type": "code",
   "execution_count": 6,
   "metadata": {
    "collapsed": false
   },
   "outputs": [
    {
     "name": "stdout",
     "output_type": "stream",
     "text": [
      "홍길동\n"
     ]
    }
   ],
   "source": [
    "print(name)"
   ]
  },
  {
   "cell_type": "code",
   "execution_count": 7,
   "metadata": {
    "collapsed": false
   },
   "outputs": [
    {
     "name": "stdout",
     "output_type": "stream",
     "text": [
      "int : 12\n",
      "12\n"
     ]
    }
   ],
   "source": [
    "k = int(input('int : '))\n",
    "print(k)"
   ]
  },
  {
   "cell_type": "code",
   "execution_count": 9,
   "metadata": {
    "collapsed": false
   },
   "outputs": [
    {
     "name": "stdout",
     "output_type": "stream",
     "text": [
      "int : 45\n",
      "45\n"
     ]
    }
   ],
   "source": [
    "# input() : 정수, 실수, Expression 입력 내장 함수\n",
    "i = input('int : ')\n",
    "print(i)"
   ]
  },
  {
   "cell_type": "code",
   "execution_count": 12,
   "metadata": {
    "collapsed": false
   },
   "outputs": [
    {
     "name": "stdout",
     "output_type": "stream",
     "text": [
      "expr : 50+30\n",
      "50+30\n"
     ]
    }
   ],
   "source": [
    "k = input('expr : ')\n",
    "print(k)"
   ]
  },
  {
   "cell_type": "code",
   "execution_count": 13,
   "metadata": {
    "collapsed": false
   },
   "outputs": [
    {
     "name": "stdout",
     "output_type": "stream",
     "text": [
      "9 2\n"
     ]
    }
   ],
   "source": [
    "# print : 화면에 자료를 출력하는 보편적인 statement\n",
    "# 여러 자료를 한꺼번에 출력할 때에는 콤마(,)를 사용\n",
    "# 파이썬3 부터는 괄호를 사용해야 한다!\n",
    "print(4+5, 4-2)"
   ]
  },
  {
   "cell_type": "code",
   "execution_count": 14,
   "metadata": {
    "collapsed": false
   },
   "outputs": [
    {
     "name": "stdout",
     "output_type": "stream",
     "text": [
      "1\n",
      "2\n"
     ]
    }
   ],
   "source": [
    "# ;은 순차적으로 입력된 각 statement를 분리함\n",
    "print(1); print(2)"
   ]
  },
  {
   "cell_type": "code",
   "execution_count": 18,
   "metadata": {
    "collapsed": false
   },
   "outputs": [
    {
     "name": "stdout",
     "output_type": "stream",
     "text": [
      "1\n",
      "1\n",
      "2\n"
     ]
    }
   ],
   "source": [
    "# 기본적으로 print는 마지막에 줄바꿈을 하지만 ,가 마지막에 있으면\n",
    "# 마지막에 줄바꿈을 하지 않는다.\n",
    "# 파이썬3에서는 줄바꿈을 한다\n",
    "print(1,)\n",
    "print(1),\n",
    "print(2)"
   ]
  },
  {
   "cell_type": "code",
   "execution_count": 20,
   "metadata": {
    "collapsed": false
   },
   "outputs": [
    {
     "ename": "TypeError",
     "evalue": "unsupported operand type(s) for +: 'int' and 'str'",
     "output_type": "error",
     "traceback": [
      "\u001b[0;31m---------------------------------------------------------------------------\u001b[0m",
      "\u001b[0;31mTypeError\u001b[0m                                 Traceback (most recent call last)",
      "\u001b[0;32m<ipython-input-20-f43ad65dd365>\u001b[0m in \u001b[0;36m<module>\u001b[0;34m()\u001b[0m\n\u001b[1;32m      1\u001b[0m \u001b[1;31m# + 연산자는 숫자와 문자열에 대한 연산을 지원하지 않는다.\u001b[0m\u001b[1;33m\u001b[0m\u001b[1;33m\u001b[0m\u001b[0m\n\u001b[0;32m----> 2\u001b[0;31m \u001b[0mprint\u001b[0m\u001b[1;33m(\u001b[0m\u001b[1;36m12\u001b[0m \u001b[1;33m+\u001b[0m \u001b[1;34m'spam'\u001b[0m\u001b[1;33m)\u001b[0m\u001b[1;33m\u001b[0m\u001b[0m\n\u001b[0m",
      "\u001b[0;31mTypeError\u001b[0m: unsupported operand type(s) for +: 'int' and 'str'"
     ]
    }
   ],
   "source": [
    "# + 연산자는 숫자와 문자열에 대한 연산을 지원하지 않는다.\n",
    "print(12 + 'spam')"
   ]
  },
  {
   "cell_type": "code",
   "execution_count": 21,
   "metadata": {
    "collapsed": false
   },
   "outputs": [
    {
     "name": "stdout",
     "output_type": "stream",
     "text": [
      "12spam\n"
     ]
    }
   ],
   "source": [
    "print('12' + 'spam')"
   ]
  },
  {
   "cell_type": "code",
   "execution_count": null,
   "metadata": {
    "collapsed": true
   },
   "outputs": [],
   "source": []
  }
 ],
 "metadata": {
  "kernelspec": {
   "display_name": "Python 3",
   "language": "python",
   "name": "python3"
  },
  "language_info": {
   "codemirror_mode": {
    "name": "ipython",
    "version": 3
   },
   "file_extension": ".py",
   "mimetype": "text/x-python",
   "name": "python",
   "nbconvert_exporter": "python",
   "pygments_lexer": "ipython3",
   "version": "3.6.0"
  }
 },
 "nbformat": 4,
 "nbformat_minor": 2
}
