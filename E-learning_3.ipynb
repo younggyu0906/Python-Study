{
 "cells": [
  {
   "cell_type": "code",
   "execution_count": 5,
   "metadata": {},
   "outputs": [
    {
     "name": "stdout",
     "output_type": "stream",
     "text": [
      "<class 'int'> <class 'int'>\n",
      "23 35\n"
     ]
    }
   ],
   "source": [
    "a = 23      # 10진 정수\n",
    "# b = 023     # 8진 정수\n",
    "c = 0x23    # 16진 정수\n",
    "print(type(a), type(c))\n",
    "print(a, c)"
   ]
  },
  {
   "cell_type": "code",
   "execution_count": 6,
   "metadata": {},
   "outputs": [
    {
     "ename": "AttributeError",
     "evalue": "module 'sys' has no attribute 'maxint'",
     "output_type": "error",
     "traceback": [
      "\u001b[1;31m---------------------------------------------------------------------------\u001b[0m",
      "\u001b[1;31mAttributeError\u001b[0m                            Traceback (most recent call last)",
      "\u001b[1;32m<ipython-input-6-731da27685a5>\u001b[0m in \u001b[0;36m<module>\u001b[1;34m()\u001b[0m\n\u001b[0;32m      1\u001b[0m \u001b[1;32mimport\u001b[0m \u001b[0msys\u001b[0m\u001b[1;33m\u001b[0m\u001b[0m\n\u001b[1;32m----> 2\u001b[1;33m \u001b[0mprint\u001b[0m\u001b[1;33m(\u001b[0m\u001b[0msys\u001b[0m\u001b[1;33m.\u001b[0m\u001b[0mmaxint\u001b[0m\u001b[1;33m)\u001b[0m  \u001b[1;31m# 최대 정수 값 확인\u001b[0m\u001b[1;33m\u001b[0m\u001b[0m\n\u001b[0m",
      "\u001b[1;31mAttributeError\u001b[0m: module 'sys' has no attribute 'maxint'"
     ]
    }
   ],
   "source": [
    "import sys\n",
    "print(sys.maxint)  # 최대 정수 값 확인"
   ]
  },
  {
   "cell_type": "code",
   "execution_count": 7,
   "metadata": {},
   "outputs": [
    {
     "name": "stdout",
     "output_type": "stream",
     "text": [
      "<class 'float'> <class 'float'> <class 'float'>\n",
      "1.2 3500.0 -2e-05\n"
     ]
    }
   ],
   "source": [
    "# 실수형 상수\n",
    "a = 1.2\n",
    "b = 3.5e3\n",
    "c = -0.2e-4\n",
    "print(type(a), type(b), type(c))\n",
    "print(a, b, c)"
   ]
  },
  {
   "cell_type": "code",
   "execution_count": 11,
   "metadata": {},
   "outputs": [
    {
     "name": "stdout",
     "output_type": "stream",
     "text": [
      "<class 'int'>\n",
      "15241578753238836750495351562536198787501905199875019052100\n",
      "\n",
      "<class 'int'>\n"
     ]
    }
   ],
   "source": [
    "# 롱형 상수\n",
    "#h1 = 123456789012345678901234567890L    # 마지막에 L을 붙여서 명시적으로 long 형이라고 알려도 되고\n",
    "#print(type(h1))\n",
    "#print(h1 * h1)\n",
    "#print()\n",
    "\n",
    "h2 = 123456789012345678901234567890     # L을 붙이지 않아도 int형이 담을 수 있는 수치를 초과하면 자동으로 long형이 된다.    \n",
    "print(type(h2))\n",
    "print(h2 * h2)\n",
    "print()\n",
    "\n",
    "#h3 = 123L\n",
    "#print(type(h3))\n",
    "#print()\n",
    "\n",
    "h4 = 123\n",
    "print(type(h4))"
   ]
  },
  {
   "cell_type": "code",
   "execution_count": 12,
   "metadata": {},
   "outputs": [
    {
     "name": "stdout",
     "output_type": "stream",
     "text": [
      "(10+20j)\n",
      "(20+25j)\n"
     ]
    }
   ],
   "source": [
    "# 복소수형 상수\n",
    "a = 10 + 20j\n",
    "print(a)\n",
    "\n",
    "b = 10 + 5j\n",
    "print(a + b)"
   ]
  },
  {
   "cell_type": "code",
   "execution_count": 13,
   "metadata": {
    "collapsed": true
   },
   "outputs": [],
   "source": [
    "# 수치 자료형의 치환\n",
    "# 아래 예에서는 x가 지니고 있는 1의 값이 변경되는 것이 아니라 새로운 객체 2로 레퍼런스를 변경하는 것임\n",
    "x = 1\n",
    "x = 2"
   ]
  },
  {
   "cell_type": "code",
   "execution_count": 15,
   "metadata": {},
   "outputs": [
    {
     "name": "stdout",
     "output_type": "stream",
     "text": [
      "3\n",
      "3\n",
      "-3\n",
      "5.0\n",
      "(3.4+5j)\n",
      "(6+0j)\n"
     ]
    }
   ],
   "source": [
    "# 수치 연산과 관련된 내장 함수\n",
    "print(abs(-3))\n",
    "print(int(3.141592))\n",
    "print(int(-3.1415))\n",
    "#print(long(3))\n",
    "print(float(5))\n",
    "print(complex(3.4, 5))\n",
    "print(complex(6))"
   ]
  },
  {
   "cell_type": "code",
   "execution_count": 16,
   "metadata": {},
   "outputs": [
    {
     "name": "stdout",
     "output_type": "stream",
     "text": [
      "(2, 1)\n",
      "\n",
      "8\n",
      "18.45216910555504\n"
     ]
    }
   ],
   "source": [
    "print(divmod(5, 2))\n",
    "print()\n",
    "print(pow(2, 3))\n",
    "print(pow(2.3, 3.5))"
   ]
  },
  {
   "cell_type": "code",
   "execution_count": 17,
   "metadata": {},
   "outputs": [
    {
     "name": "stdout",
     "output_type": "stream",
     "text": [
      "3.141592653589793\n",
      "2.718281828459045\n",
      "0.8414709848078965\n",
      "1.4142135623730951\n"
     ]
    }
   ],
   "source": [
    "# math 모듈의 수치 연산 함수\n",
    "import math\n",
    "\n",
    "print(math.pi)\n",
    "print(math.e)\n",
    "print(math.sin(1.0)) # 1.0 라디안에 대한 사인 값\n",
    "print(math.sqrt(2)) # 제곱근"
   ]
  },
  {
   "cell_type": "code",
   "execution_count": 19,
   "metadata": {},
   "outputs": [
    {
     "name": "stdout",
     "output_type": "stream",
     "text": [
      "0.8660254037844386 0.5000000000000001 1.7320508075688767\n"
     ]
    }
   ],
   "source": [
    "r = 5.0 # 반지름\n",
    "a = math.pi * r * r # 면적\n",
    "\n",
    "degree = 60.0\n",
    "rad = math.pi * degree / 180.0 # 각도를 라디안으로 변환\n",
    "print(math.sin(rad), math.cos(rad), math.tan(rad)) #sin, cos, tan"
   ]
  },
  {
   "cell_type": "code",
   "execution_count": 20,
   "metadata": {},
   "outputs": [
    {
     "name": "stdout",
     "output_type": "stream",
     "text": [
      "Hello World!\n",
      "Hello World!\n"
     ]
    }
   ],
   "source": [
    "# 문자열 형식\n",
    "print('Hello World!')\n",
    "\n",
    "print(\"Hello World!\")"
   ]
  },
  {
   "cell_type": "code",
   "execution_count": 21,
   "metadata": {},
   "outputs": [
    {
     "name": "stdout",
     "output_type": "stream",
     "text": [
      "\n",
      "To be, or not to be\n",
      "that is the question\n",
      "\n",
      "\n",
      "To be, or not to be\n",
      "that is the question\n",
      "\n"
     ]
    }
   ],
   "source": [
    "multiline = '''\n",
    "To be, or not to be\n",
    "that is the question\n",
    "'''\n",
    "print(multiline)\n",
    "\n",
    "multiline2 = \"\"\"\n",
    "To be, or not to be\n",
    "that is the question\n",
    "\"\"\"\n",
    "print(multiline2)"
   ]
  },
  {
   "cell_type": "code",
   "execution_count": 22,
   "metadata": {},
   "outputs": [
    {
     "name": "stdout",
     "output_type": "stream",
     "text": [
      "H\n",
      "e\n",
      "!\n",
      "d\n"
     ]
    }
   ],
   "source": [
    "# 인덱싱 & 슬라이싱\n",
    "s = \"Hello world!\"\n",
    "print(s[0])\n",
    "print(s[1])\n",
    "print(s[-1])\n",
    "print(s[-2])"
   ]
  },
  {
   "cell_type": "code",
   "execution_count": 23,
   "metadata": {},
   "outputs": [
    {
     "name": "stdout",
     "output_type": "stream",
     "text": [
      "el\n",
      "Hello\n",
      "ello\n",
      "Hel\n",
      "Hello\n",
      "ac\n",
      "dcba\n"
     ]
    }
   ],
   "source": [
    "s = \"Hello world!\"\n",
    "print(s[1:3])\n",
    "print(s[0:5])\n",
    "\n",
    "s = 'Hello'\n",
    "print(s[1:])\n",
    "print(s[:3])\n",
    "print(s[:])\n",
    "\n",
    "s = 'abcd'\n",
    "print(s[::2])\n",
    "print(s[::-1])"
   ]
  },
  {
   "cell_type": "code",
   "execution_count": 24,
   "metadata": {},
   "outputs": [
    {
     "ename": "TypeError",
     "evalue": "'str' object does not support item assignment",
     "output_type": "error",
     "traceback": [
      "\u001b[1;31m---------------------------------------------------------------------------\u001b[0m",
      "\u001b[1;31mTypeError\u001b[0m                                 Traceback (most recent call last)",
      "\u001b[1;32m<ipython-input-24-4191fafad1b2>\u001b[0m in \u001b[0;36m<module>\u001b[1;34m()\u001b[0m\n\u001b[0;32m      1\u001b[0m \u001b[1;31m# •문자열 자료형은 변경되지 않는다.\u001b[0m\u001b[1;33m\u001b[0m\u001b[1;33m\u001b[0m\u001b[0m\n\u001b[0;32m      2\u001b[0m \u001b[0ms\u001b[0m \u001b[1;33m=\u001b[0m \u001b[1;34m'Hello World'\u001b[0m\u001b[1;33m\u001b[0m\u001b[0m\n\u001b[1;32m----> 3\u001b[1;33m \u001b[0ms\u001b[0m\u001b[1;33m[\u001b[0m\u001b[1;36m0\u001b[0m\u001b[1;33m]\u001b[0m \u001b[1;33m=\u001b[0m \u001b[1;34m'h'\u001b[0m\u001b[1;33m\u001b[0m\u001b[0m\n\u001b[0m",
      "\u001b[1;31mTypeError\u001b[0m: 'str' object does not support item assignment"
     ]
    }
   ],
   "source": [
    "# •문자열 자료형은 변경되지 않는다.\n",
    "s = 'Hello World'\n",
    "s[0] = 'h'"
   ]
  },
  {
   "cell_type": "code",
   "execution_count": 25,
   "metadata": {},
   "outputs": [
    {
     "data": {
      "text/plain": [
       "'hello World'"
      ]
     },
     "execution_count": 25,
     "metadata": {},
     "output_type": "execute_result"
    }
   ],
   "source": [
    "# •문자열을 변경하려면 Slicing 및 연결 연산 (+)을 주로 이용한다.\n",
    "s = 'Hello World'\n",
    "s = 'h' + s[1:]\n",
    "s"
   ]
  },
  {
   "cell_type": "code",
   "execution_count": 27,
   "metadata": {},
   "outputs": [
    {
     "name": "stdout",
     "output_type": "stream",
     "text": [
      "HelloWorld\n",
      "HelloHelloHello\n",
      "------------------------------------------------------------\n",
      "True\n",
      "False\n"
     ]
    }
   ],
   "source": [
    "# 문자열 연산\n",
    "# +: 연결\n",
    "# *: 반복\n",
    "print('Hello' + '' + 'World')\n",
    "print('Hello' * 3)\n",
    "print('-' * 60)\n",
    "\n",
    "# 문자열의 길이\n",
    "# len(): 문자열의 길이를 반환하는 내장함수\n",
    "s = 'Hello World'\n",
    "len(s)\n",
    "\n",
    "# 문자열내 포함 관계 여부\n",
    "# in, not in: 문자열내에 일부 문자열이 포함되어 있는지를 파악하는 키워드\n",
    "\n",
    "s = 'Hello World'\n",
    "print('World' in s)\n",
    "print('World' not in s)"
   ]
  },
  {
   "cell_type": "code",
   "execution_count": 30,
   "metadata": {},
   "outputs": [
    {
     "name": "stdout",
     "output_type": "stream",
     "text": [
      "<class 'list'>\n",
      "\n",
      "3\n",
      "\n",
      "2\n",
      "3\n",
      "[2, 3]\n",
      "\n",
      "[1, 2, 3, 1, 2, 3]\n",
      "[1, 2, 3, 1, 2, 3, 1, 2, 3]\n",
      "\n",
      "\n",
      "[10, 5, 6]\n",
      "\n",
      "\n",
      "[4, 5, 6]\n",
      "\n",
      "\n",
      "range(0, 10)\n",
      "range(0, 10, 2)\n",
      "range(9, -1, -1)\n",
      "True\n"
     ]
    }
   ],
   "source": [
    "# 리스트의 정의와 리스트 기본 연산\n",
    "# 리스트: 임의의 객체를 순차적으로 저장하는 집합적 자료형\n",
    "# 문자열이 지닌 대부분의 연산들은 리스트도 지원\n",
    "L = [1,2,3]\n",
    "print (type(L))\n",
    "print()\n",
    "print (len(L))\n",
    "print()\n",
    "print (L[1])\n",
    "print (L[-1])\n",
    "print (L[1:3])\n",
    "print()\n",
    "print (L + L)\n",
    "print (L * 3)\n",
    "print()\n",
    "print()\n",
    "\n",
    "#리스트는 변경 가능\n",
    "l1 = [4,5,6]\n",
    "l1[0] = 10\n",
    "print (l1)\n",
    "print()\n",
    "print()\n",
    "\n",
    "# 동일한 변수에 다른 리스트를 할당하는 것은 해당 변수의 레퍼런스를 변경함\n",
    "l1 = [1,2,3]\n",
    "l1 = [4,5,6]\n",
    "print (l1)\n",
    "print()\n",
    "print()\n",
    "\n",
    "# range() 함수를 통한 인덱스 리스트 생성\n",
    "# range(k): 0부터 k-1까지의 숫자의 리스트를 반환함 \n",
    "L = range(10)\n",
    "print (L)\n",
    "print (L[::2])\n",
    "print (L[::-1])\n",
    "print (4 in L)"
   ]
  },
  {
   "cell_type": "code",
   "execution_count": 31,
   "metadata": {},
   "outputs": [
    {
     "ename": "TypeError",
     "evalue": "'tuple' object does not support item assignment",
     "output_type": "error",
     "traceback": [
      "\u001b[1;31m---------------------------------------------------------------------------\u001b[0m",
      "\u001b[1;31mTypeError\u001b[0m                                 Traceback (most recent call last)",
      "\u001b[1;32m<ipython-input-31-c75b39f95452>\u001b[0m in \u001b[0;36m<module>\u001b[1;34m()\u001b[0m\n\u001b[0;32m      3\u001b[0m \u001b[1;33m\u001b[0m\u001b[0m\n\u001b[0;32m      4\u001b[0m \u001b[0mt\u001b[0m \u001b[1;33m=\u001b[0m \u001b[1;33m(\u001b[0m\u001b[1;36m1\u001b[0m\u001b[1;33m,\u001b[0m\u001b[1;36m2\u001b[0m\u001b[1;33m,\u001b[0m\u001b[1;36m3\u001b[0m\u001b[1;33m)\u001b[0m\u001b[1;33m\u001b[0m\u001b[0m\n\u001b[1;32m----> 5\u001b[1;33m \u001b[0mt\u001b[0m\u001b[1;33m[\u001b[0m\u001b[1;36m0\u001b[0m\u001b[1;33m]\u001b[0m \u001b[1;33m=\u001b[0m \u001b[1;36m100\u001b[0m\u001b[1;33m\u001b[0m\u001b[0m\n\u001b[0m",
      "\u001b[1;31mTypeError\u001b[0m: 'tuple' object does not support item assignment"
     ]
    }
   ],
   "source": [
    "# 튜플의 상수적 성격\n",
    "# 튜플은 내용 변경 불가\n",
    "\n",
    "t = (1,2,3)\n",
    "t[0] = 100"
   ]
  },
  {
   "cell_type": "code",
   "execution_count": 32,
   "metadata": {},
   "outputs": [
    {
     "name": "stdout",
     "output_type": "stream",
     "text": [
      "[100, 2, 3]\n"
     ]
    }
   ],
   "source": [
    "# 반면에 리스트는 내용 변경 가능\n",
    "\n",
    "L = [1,2,3]\n",
    "L[0] = 100\n",
    "\n",
    "print(L)"
   ]
  },
  {
   "cell_type": "code",
   "execution_count": 33,
   "metadata": {},
   "outputs": [
    {
     "name": "stdout",
     "output_type": "stream",
     "text": [
      "hana\n",
      "{'two': 'dul', 'four': 'net', 'three': 'set', 'one': 'hana'}\n",
      "{'two': 'dul', 'four': 'net', 'three': 'set', 'one': 1}\n",
      "True\n",
      "dict_keys(['two', 'four', 'three', 'one'])\n",
      "dict_values(['dul', 'net', 'set', 1])\n",
      "dict_items([('two', 'dul'), ('four', 'net'), ('three', 'set'), ('one', 1)])\n"
     ]
    }
   ],
   "source": [
    "# 사전의 정의와 기본 사용법\n",
    "# 정수형 인덱스가 아닌 키를 이용하여 값을 저장하는 자료 구조◾저장된 각 자료에 대한 순서는 의미 없음\n",
    "# 매핑(Mapping) 함수와 비슷한 역할을 함◾x라는 키값을 넣으면 값 y를 반환함\n",
    "\n",
    "d = {'one': 'hana', 'two': 'dul', 'three': 'set'}\n",
    "print(d['one'])\n",
    "\n",
    "d = {'one': 'hana', 'two': 'dul', 'three': 'set'}\n",
    "d['four'] = 'net' # 새 항목의 삽입\n",
    "print(d)\n",
    "d['one'] = 1      # 기존 항목의 값 변경\n",
    "print(d)\n",
    "print('one' in d)  # 키에 대한 멤버쉽 테스트\n",
    "\n",
    "d = {'one': 1, 'two': 'dul', 'three': 'set', 'four': 'net'}\n",
    "print(d.keys())  # 키만 리스트로 추출함\n",
    "print(d.values())  # 값만 리스트로 추출함\n",
    "print(d.items())  # 키와 값의 튜플을 리스트로 반환함"
   ]
  },
  {
   "cell_type": "code",
   "execution_count": 34,
   "metadata": {},
   "outputs": [
    {
     "name": "stdout",
     "output_type": "stream",
     "text": [
      "<class 'int'>\n",
      "<class 'float'>\n",
      "<class 'str'>\n",
      "<class 'list'>\n",
      "<class 'tuple'>\n",
      "<class 'dict'>\n",
      "True\n",
      "True\n",
      "True\n",
      "\n",
      "\n",
      "<class 'NoneType'>\n",
      "\n",
      "None\n",
      "<class 'NoneType'>\n",
      "\n",
      "\n",
      "2214232275184\n",
      "2214232275184\n",
      "1886397104\n",
      "1886397104\n",
      "\n",
      "\n",
      "False\n",
      "True\n",
      "True\n",
      "True\n",
      "\n",
      "\n"
     ]
    },
    {
     "data": {
      "text/plain": [
       "True"
      ]
     },
     "execution_count": 34,
     "metadata": {},
     "output_type": "execute_result"
    }
   ],
   "source": [
    "# 내장 자료형의 정리와 객체 신원 파악\n",
    "\n",
    "# 내장 자료형의 특성 정리\n",
    "# 자료형  | 저장/접근 방법     |  변경 가능성          | 저장 모델\n",
    "# 수치형  | 직접(Direct)      | 변경불가능(Immutable) | 리터럴 (Literal) \n",
    "# 문자열  | 시퀀스 (Sequence) | 변경불가능(Immutable) | 리터럴 (Literal) \n",
    "# 리스트  | 시퀀스 (Sequence) | 변경가능(Mutable)     | 컨테이너 (Container) \n",
    "# 튜플    | 시퀀스 (Sequence) | 변경불가능(Immutable) | 컨테이너 (Container) \n",
    "# 사전    | 매핑 (Mapping)   | 변경가능(Mutable)     | 컨테이너 (Container) \n",
    "\n",
    "\n",
    "# 내장 자료형 알아보기\n",
    "print (type(3)    )   #정수\n",
    "print (type(3.3)  )   #실수\n",
    "print (type('abc'))   #문자열\n",
    "\n",
    "print (type([])   )   #리스트\n",
    "print (type(())   )   #튜플\n",
    "print (type({})   )   #사전(dict)\n",
    "\n",
    "# 자료형의 비교\n",
    "a = 0\n",
    "L = [1,2,3]\n",
    "print(type(a) == type(0))\n",
    "print(type(L) == type([]))\n",
    "print(type(L[0]) == type(0))\n",
    "print()\n",
    "print()\n",
    "\n",
    "print(type(None))    #None 객체, 아무 값도 없다(혹은 아니다)를 나타내는 객체\n",
    "print()\n",
    "a = None\n",
    "print(a)\n",
    "print(type(a))\n",
    "print()\n",
    "print()\n",
    "\n",
    "# 객체의 신원 식별하기\n",
    "# id(): 객체의 식별자를 반환한다.\n",
    "a = 500\n",
    "b = a\n",
    "print(id(a))\n",
    "print(id(b))\n",
    "print\n",
    "x = 1\n",
    "y = 1\n",
    "print(id(x))\n",
    "print(id(y))\n",
    "print()\n",
    "print()\n",
    "\n",
    "# is 키워드: 두 객체의 식별자가 동일한지 테스트한다.\n",
    "c = [1,2,3]\n",
    "d = [1,2,3]\n",
    "print(c is d)\n",
    "\n",
    "a = 500\n",
    "b = a\n",
    "print(a is b)\n",
    "\n",
    "x = 1\n",
    "y = 1\n",
    "print(x is y)\n",
    "\n",
    "e = f = [4,5,6]\n",
    "print(e is f)\n",
    "print()\n",
    "print()\n",
    "\n",
    "# == 연산자: 두 객체의 값이 동일한지를 테스트한다.\n",
    "c = [1,2,3]\n",
    "d = [1,2,3]\n",
    "c == d"
   ]
  }
 ],
 "metadata": {
  "kernelspec": {
   "display_name": "Python 3",
   "language": "python",
   "name": "python3"
  },
  "language_info": {
   "codemirror_mode": {
    "name": "ipython",
    "version": 3
   },
   "file_extension": ".py",
   "mimetype": "text/x-python",
   "name": "python",
   "nbconvert_exporter": "python",
   "pygments_lexer": "ipython3",
   "version": "3.5.3"
  }
 },
 "nbformat": 4,
 "nbformat_minor": 2
}
