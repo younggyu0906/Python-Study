{
 "cells": [
  {
   "cell_type": "code",
   "execution_count": 2,
   "metadata": {
    "collapsed": false
   },
   "outputs": [
    {
     "name": "stdout",
     "output_type": "stream",
     "text": [
      "C:\\Users\\YGKIM\\Desktop\\Python\n"
     ]
    }
   ],
   "source": [
    "import os\n",
    "\n",
    "print (os.getcwd())"
   ]
  },
  {
   "cell_type": "code",
   "execution_count": null,
   "metadata": {
    "collapsed": true
   },
   "outputs": [],
   "source": []
  },
  {
   "cell_type": "code",
   "execution_count": 3,
   "metadata": {
    "collapsed": true
   },
   "outputs": [],
   "source": [
    "s = \"\"\"Its power: Python developers typically report \n",
    "they are able to develop applications in a half\n",
    "to a tenth the amount of time it takes them to do\n",
    "the same work in such languages as C.\"\"\"\n",
    "f = open('t.txt', 'w')\n",
    "f.write(s) # 문자열을 파일에 기록\n",
    "f.close()"
   ]
  },
  {
   "cell_type": "code",
   "execution_count": 4,
   "metadata": {
    "collapsed": false
   },
   "outputs": [
    {
     "name": "stdout",
     "output_type": "stream",
     "text": [
      "Its power: Python developers typically report \n",
      "they are able to develop applications in a half\n",
      "to a tenth the amount of time it takes them to do\n",
      "the same work in such languages as C.\n"
     ]
    }
   ],
   "source": [
    "f = open('t.txt', 'r')\n",
    "# f = file('t.txt') # 안됨 # f = open('t.txt', 'r')과 동일\n",
    "s = f.read()\n",
    "print(s)\n",
    "\n",
    "# •close()을 마지막에 호출하지 않으면 해당 file 객체가 다른 값으로 치환되거나 프로그램이 종료될 때 자동으로 close()가 불리워진다.\n",
    "# ◾하지만 명시적으로 close()를 호출하는 것을 권장함"
   ]
  },
  {
   "cell_type": "code",
   "execution_count": 5,
   "metadata": {
    "collapsed": false
   },
   "outputs": [
    {
     "name": "stdout",
     "output_type": "stream",
     "text": [
      "1 : Its power: Python developers typically report \n",
      "\n",
      "2 : they are able to develop applications in a half\n",
      "\n",
      "3 : to a tenth the amount of time it takes them to do\n",
      "\n",
      "4 : the same work in such languages as C.\n"
     ]
    }
   ],
   "source": [
    "# 파일 객체의 반복자 사용\n",
    "f = open('t.txt')\n",
    "i = 1\n",
    "for line in f:\n",
    "    print(i, \":\", line,)\n",
    "    i += 1\n",
    "f.close()"
   ]
  },
  {
   "cell_type": "code",
   "execution_count": 6,
   "metadata": {
    "collapsed": false
   },
   "outputs": [
    {
     "name": "stdout",
     "output_type": "stream",
     "text": [
      "1 : Its power: Python developers typically report \n",
      "\n",
      "2 : they are able to develop applications in a half\n",
      "\n",
      "3 : to a tenth the amount of time it takes them to do\n",
      "\n",
      "4 : the same work in such languages as C.\n"
     ]
    }
   ],
   "source": [
    "# readline() 사용\n",
    "f = open('t.txt')\n",
    "line = f.readline()\n",
    "i = 1\n",
    "while line:\n",
    "    print (i, \":\", line,)\n",
    "    line = f.readline()\n",
    "    i += 1\n",
    "f.close()"
   ]
  },
  {
   "cell_type": "code",
   "execution_count": 7,
   "metadata": {
    "collapsed": false
   },
   "outputs": [
    {
     "name": "stdout",
     "output_type": "stream",
     "text": [
      "['Its power: Python developers typically report \\n', 'they are able to develop applications in a half\\n', 'to a tenth the amount of time it takes them to do\\n', 'the same work in such languages as C.']\n",
      "\n",
      "1 : Its power: Python developers typically report \n",
      "\n",
      "2 : they are able to develop applications in a half\n",
      "\n",
      "3 : to a tenth the amount of time it takes them to do\n",
      "\n",
      "4 : the same work in such languages as C.\n"
     ]
    }
   ],
   "source": [
    "# readlines() 사용\n",
    "# 각 라인을 모두 읽어서 메모리에 리스트로 저장\n",
    "f = open('t.txt')\n",
    "print(f.readlines())\n",
    "print()\n",
    "\n",
    "f.seek(0)\n",
    "i = 1\n",
    "for line in f.readlines():\n",
    "    print(i, \":\", line,)\n",
    "    i += 1\n",
    "f.close()"
   ]
  },
  {
   "cell_type": "code",
   "execution_count": 8,
   "metadata": {
    "collapsed": false
   },
   "outputs": [
    {
     "ename": "AttributeError",
     "evalue": "'_io.TextIOWrapper' object has no attribute 'xreadlines'",
     "traceback": [
      "\u001b[0;31m---------------------------------------------------------------------------\u001b[0m",
      "\u001b[0;31mAttributeError\u001b[0m                            Traceback (most recent call last)",
      "\u001b[0;32m<ipython-input-8-f0c5114b0d2e>\u001b[0m in \u001b[0;36m<module>\u001b[0;34m()\u001b[0m\n\u001b[1;32m      1\u001b[0m \u001b[1;31m# •xreadlines() 사용\u001b[0m\u001b[1;33m\u001b[0m\u001b[1;33m\u001b[0m\u001b[0m\n\u001b[1;32m      2\u001b[0m \u001b[0mf\u001b[0m \u001b[1;33m=\u001b[0m \u001b[0mopen\u001b[0m\u001b[1;33m(\u001b[0m\u001b[1;34m't.txt'\u001b[0m\u001b[1;33m)\u001b[0m\u001b[1;33m\u001b[0m\u001b[0m\n\u001b[0;32m----> 3\u001b[0;31m \u001b[0mprint\u001b[0m\u001b[1;33m(\u001b[0m\u001b[0mf\u001b[0m\u001b[1;33m.\u001b[0m\u001b[0mxreadlines\u001b[0m\u001b[1;33m(\u001b[0m\u001b[1;33m)\u001b[0m\u001b[1;33m)\u001b[0m\u001b[1;33m\u001b[0m\u001b[0m\n\u001b[0m\u001b[1;32m      4\u001b[0m \u001b[0mprint\u001b[0m\u001b[1;33m(\u001b[0m\u001b[1;33m)\u001b[0m\u001b[1;33m\u001b[0m\u001b[0m\n\u001b[1;32m      5\u001b[0m \u001b[1;33m\u001b[0m\u001b[0m\n",
      "\u001b[0;31mAttributeError\u001b[0m: '_io.TextIOWrapper' object has no attribute 'xreadlines'"
     ],
     "output_type": "error"
    }
   ],
   "source": [
    "# •xreadlines() 사용\n",
    "f = open('t.txt')\n",
    "print(f.xreadlines())\n",
    "print()\n",
    "\n",
    "f.seek(0)\n",
    "i = 1\n",
    "for line in f.xreadlines():\n",
    "    print(i, \":\", line,)\n",
    "    i += 1\n",
    "f.close()"
   ]
  },
  {
   "cell_type": "code",
   "execution_count": 10,
   "metadata": {
    "collapsed": false
   },
   "outputs": [
    {
     "name": "stdout",
     "output_type": "stream",
     "text": [
      "first line\n",
      "second line\n",
      "third line\n",
      "\n"
     ]
    }
   ],
   "source": [
    "# •writelines(): 리스트 안에 있는 각 문자열을 연속해서 파일로 출력한다.\n",
    "lines = ['first line\\n', 'second line\\n', 'third line\\n']\n",
    "f = open('t1.txt', 'w')\n",
    "f.writelines(lines)\n",
    "f.close()\n",
    "\n",
    "f = open('t1.txt')\n",
    "f.seek(0)\n",
    "print(f.read())\n",
    "f.close()"
   ]
  },
  {
   "cell_type": "code",
   "execution_count": 11,
   "metadata": {
    "collapsed": false
   },
   "outputs": [
    {
     "name": "stdout",
     "output_type": "stream",
     "text": [
      "first line\n",
      "second line\n",
      "third line\n"
     ]
    }
   ],
   "source": [
    "# •write() 이용하여 여러 문자열을 각 라인별로 파일로 출력하는 방법\n",
    "lines = ['first line', 'second line', 'third line']\n",
    "f = open('t1.txt', 'w')\n",
    "f.write('\\n'.join(lines))\n",
    "f.close()\n",
    "\n",
    "f = open('t1.txt')\n",
    "f.seek(0)\n",
    "print(f.read())\n",
    "f.close()"
   ]
  },
  {
   "cell_type": "code",
   "execution_count": 13,
   "metadata": {
    "collapsed": false
   },
   "outputs": [
    {
     "name": "stdout",
     "output_type": "stream",
     "text": [
      "35\n"
     ]
    }
   ],
   "source": [
    "# •텍스트 파일 t.txt의 단어(공백으로 분리된 문자열) 수를 출력하는 방법\n",
    "f = open('t.txt')\n",
    "s = f.read()\n",
    "n = len(s.split())\n",
    "print(n)\n",
    "f.close()"
   ]
  },
  {
   "cell_type": "code",
   "execution_count": 14,
   "metadata": {
    "collapsed": true
   },
   "outputs": [],
   "source": [
    "# 기존 파일에 내용 추가\n",
    "f = open('removeme.txt', 'w') # 파일의 생성\n",
    "f.write('first line\\n')\n",
    "f.write('second line\\n')\n",
    "f.close()"
   ]
  },
  {
   "cell_type": "code",
   "execution_count": 16,
   "metadata": {
    "collapsed": false
   },
   "outputs": [
    {
     "name": "stdout",
     "output_type": "stream",
     "text": [
      "first line\n",
      "second line\n",
      "third line\n",
      "\n"
     ]
    }
   ],
   "source": [
    "f = open('removeme.txt', 'a') # 파일 추가 모드로 오픈\n",
    "f.write('third line\\n')\n",
    "f.close()\n",
    "\n",
    "f = open('removeme.txt')      # 파일 읽기\n",
    "print(f.read())"
   ]
  },
  {
   "cell_type": "code",
   "execution_count": 17,
   "metadata": {
    "collapsed": false
   },
   "outputs": [
    {
     "name": "stdout",
     "output_type": "stream",
     "text": [
      "5\n",
      "5\n",
      "6\n",
      "\n"
     ]
    }
   ],
   "source": [
    "# 파일 내 임의 위치로 접근\n",
    "# •파일 포인터 (pointer)\n",
    "#  ◾파일 내에서 현재 위치를 가리키고 있음\n",
    "# •파일 접근 방법\n",
    "#  ◾순차 접근 (기본 방식): 파일을 앞에서 부터 순차적으로 읽고 쓰는 방식\n",
    "#  ◾임의 접근: 파일 내 임의 위치에서 읽고 쓰는 방식\n",
    "#   ◦임의 접근을 위한 file 객체 포인터 (pointer) 관련 메소드\n",
    "#    ◦seek(n): 파일의 가장 첫번째 위치에서 n번째 바이트로 포인터 이동\n",
    "#    ◦tell(): 파일 내 현재 포인터 위치를 반환\n",
    "\n",
    "name = 't.txt' \n",
    "f = open(name, 'w+')   # 읽고 쓰기로 오픈, 단, 파일이 이미 존재한다면 기존 파일은 없어지고 다시 생성된다.\n",
    "s = '0123456789abcdef'\n",
    "f.write(s)\n",
    "\n",
    "f.seek(5)       # 시작부터 5바이트 포인터 이동\n",
    "print(f.tell())  # 현재 위치 돌려줌\n",
    "print(f.read(1)) # 1문자 읽기\n",
    "print(f.tell())\n",
    "print()"
   ]
  },
  {
   "cell_type": "code",
   "execution_count": 21,
   "metadata": {
    "collapsed": false
   },
   "outputs": [],
   "source": [
    "# 표준 출력을 파일로 저장하기\n",
    "import sys\n",
    "\n",
    "f = open('t.txt', 'w')\n",
    "stdout = sys.stdout   # 표준 출력 저장해 두기\n",
    "sys.stdout = f        # 파일 객체로 표준 출력 변경\n",
    "print('Sample output')\n",
    "print('Good')\n",
    "print('Good')\n",
    "f.close()\n",
    "sys.stdout = stdout   # 필요하면 표준 출력 원상 복구"
   ]
  },
  {
   "cell_type": "code",
   "execution_count": 20,
   "metadata": {
    "collapsed": false
   },
   "outputs": [
    {
     "name": "stdout",
     "output_type": "stream",
     "text": [
      "Sample output\n",
      "Good\n",
      "Good\n",
      "\n"
     ]
    }
   ],
   "source": [
    "f = open('t.txt')\n",
    "print(f.read())"
   ]
  },
  {
   "cell_type": "code",
   "execution_count": 26,
   "metadata": {
    "collapsed": false
   },
   "outputs": [
    {
     "ename": "TypeError",
     "evalue": "unsupported operand type(s) for >>: 'builtin_function_or_method' and 'OutStream'",
     "traceback": [
      "\u001b[0;31m---------------------------------------------------------------------------\u001b[0m",
      "\u001b[0;31mTypeError\u001b[0m                                 Traceback (most recent call last)",
      "\u001b[0;32m<ipython-input-26-c3f3c4197486>\u001b[0m in \u001b[0;36m<module>\u001b[0;34m()\u001b[0m\n\u001b[1;32m      1\u001b[0m \u001b[1;31m# •print를 직접 이용하여 출력을 다른 객체로 전환하기\u001b[0m\u001b[1;33m\u001b[0m\u001b[1;33m\u001b[0m\u001b[0m\n\u001b[0;32m----> 2\u001b[0;31m \u001b[0mprint\u001b[0m \u001b[1;33m>>\u001b[0m \u001b[0msys\u001b[0m\u001b[1;33m.\u001b[0m\u001b[0mstderr\u001b[0m\u001b[1;33m,\u001b[0m \u001b[1;34m\"Warning, action field not supplied\"\u001b[0m\u001b[1;33m\u001b[0m\u001b[0m\n\u001b[0m",
      "\u001b[0;31mTypeError\u001b[0m: unsupported operand type(s) for >>: 'builtin_function_or_method' and 'OutStream'"
     ],
     "output_type": "error"
    }
   ],
   "source": [
    "# •print를 직접 이용하여 출력을 다른 객체로 전환하기 \n",
    "print >> sys.stderr, \"Warning, action field not supplied\""
   ]
  },
  {
   "cell_type": "code",
   "execution_count": 25,
   "metadata": {
    "collapsed": false
   },
   "outputs": [
    {
     "ename": "TypeError",
     "evalue": "unsupported operand type(s) for >>: 'builtin_function_or_method' and '_io.TextIOWrapper'",
     "traceback": [
      "\u001b[0;31m---------------------------------------------------------------------------\u001b[0m",
      "\u001b[0;31mTypeError\u001b[0m                                 Traceback (most recent call last)",
      "\u001b[0;32m<ipython-input-25-9612f242791f>\u001b[0m in \u001b[0;36m<module>\u001b[0;34m()\u001b[0m\n\u001b[1;32m      1\u001b[0m \u001b[0mf\u001b[0m \u001b[1;33m=\u001b[0m \u001b[0mopen\u001b[0m\u001b[1;33m(\u001b[0m\u001b[1;34m't.txt'\u001b[0m\u001b[1;33m,\u001b[0m \u001b[1;34m'w'\u001b[0m\u001b[1;33m)\u001b[0m\u001b[1;33m\u001b[0m\u001b[0m\n\u001b[0;32m----> 2\u001b[0;31m \u001b[0mprint\u001b[0m \u001b[1;33m>>\u001b[0m \u001b[0mf\u001b[0m\u001b[1;33m,\u001b[0m \u001b[1;34m'spam string'\u001b[0m\u001b[1;33m\u001b[0m\u001b[0m\n\u001b[0m\u001b[1;32m      3\u001b[0m \u001b[0mf\u001b[0m\u001b[1;33m.\u001b[0m\u001b[0mclose\u001b[0m\u001b[1;33m(\u001b[0m\u001b[1;33m)\u001b[0m\u001b[1;33m\u001b[0m\u001b[0m\n\u001b[1;32m      4\u001b[0m \u001b[1;33m\u001b[0m\u001b[0m\n\u001b[1;32m      5\u001b[0m \u001b[0mf\u001b[0m \u001b[1;33m=\u001b[0m \u001b[0mopen\u001b[0m\u001b[1;33m(\u001b[0m\u001b[1;34m't.txt'\u001b[0m\u001b[1;33m)\u001b[0m\u001b[1;33m\u001b[0m\u001b[0m\n",
      "\u001b[0;31mTypeError\u001b[0m: unsupported operand type(s) for >>: 'builtin_function_or_method' and '_io.TextIOWrapper'"
     ],
     "output_type": "error"
    }
   ],
   "source": [
    "# •동일 방법으로 표준 출력(print)을 파일 객체로 전환\n",
    "f = open('t.txt', 'w')\n",
    "print >> f, 'spam string'\n",
    "f.close()\n",
    "\n",
    "f = open('t.txt')\n",
    "print (f.read())\n",
    "f.close()"
   ]
  },
  {
   "cell_type": "code",
   "execution_count": 29,
   "metadata": {
    "collapsed": false
   },
   "outputs": [
    {
     "ename": "ModuleNotFoundError",
     "evalue": "No module named 'StringIO'",
     "traceback": [
      "\u001b[0;31m---------------------------------------------------------------------------\u001b[0m",
      "\u001b[0;31mModuleNotFoundError\u001b[0m                       Traceback (most recent call last)",
      "\u001b[0;32m<ipython-input-29-e342a99a2ed1>\u001b[0m in \u001b[0;36m<module>\u001b[0;34m()\u001b[0m\n\u001b[0;32m----> 1\u001b[0;31m \u001b[1;32mimport\u001b[0m \u001b[0mStringIO\u001b[0m\u001b[1;33m\u001b[0m\u001b[0m\n\u001b[0m\u001b[1;32m      2\u001b[0m \u001b[1;33m\u001b[0m\u001b[0m\n\u001b[1;32m      3\u001b[0m \u001b[0mf\u001b[0m \u001b[1;33m=\u001b[0m \u001b[0mStringIO\u001b[0m\u001b[1;33m.\u001b[0m\u001b[0mStringIO\u001b[0m\u001b[1;33m(\u001b[0m\u001b[1;33m)\u001b[0m\u001b[1;33m\u001b[0m\u001b[0m\n\u001b[1;32m      4\u001b[0m \u001b[0mf\u001b[0m\u001b[1;33m.\u001b[0m\u001b[0mwrite\u001b[0m\u001b[1;33m(\u001b[0m\u001b[1;34m\"abc\"\u001b[0m\u001b[1;33m)\u001b[0m\u001b[1;33m\u001b[0m\u001b[0m\n\u001b[1;32m      5\u001b[0m \u001b[0mf\u001b[0m\u001b[1;33m.\u001b[0m\u001b[0mseek\u001b[0m\u001b[1;33m(\u001b[0m\u001b[1;36m0\u001b[0m\u001b[1;33m)\u001b[0m\u001b[1;33m\u001b[0m\u001b[0m\n",
      "\u001b[0;31mModuleNotFoundError\u001b[0m: No module named 'StringIO'"
     ],
     "output_type": "error"
    }
   ],
   "source": [
    "#•StringIO 모듈의 StringIO 클래스 객체\n",
    "#◾파일 객체처럼 입출력 가능한 문자열 객체\n",
    "#◾StringIO에 지원되는 메소드는 파일 객체가 지원하는 메소드와 거의 동일하다.\n",
    "#◾getvalue() 메소드\n",
    "#◦현재까지 담아 놓은 전체 내용을 반환한다\n",
    "\n",
    "import StringIO\n",
    "\n",
    "f = StringIO.StringIO()\n",
    "f.write(\"abc\")\n",
    "f.seek(0)\n",
    "s = f.read()\n",
    "print(s)\n",
    "print()\n",
    "\n",
    "s2 = f.getvalue()\n",
    "print(s2)"
   ]
  },
  {
   "cell_type": "code",
   "execution_count": 32,
   "metadata": {
    "collapsed": false
   },
   "outputs": [
    {
     "ename": "ModuleNotFoundError",
     "evalue": "No module named 'StringIO'",
     "traceback": [
      "\u001b[0;31m---------------------------------------------------------------------------\u001b[0m",
      "\u001b[0;31mModuleNotFoundError\u001b[0m                       Traceback (most recent call last)",
      "\u001b[0;32m<ipython-input-32-c59457c4c8f7>\u001b[0m in \u001b[0;36m<module>\u001b[0;34m()\u001b[0m\n\u001b[1;32m      1\u001b[0m \u001b[1;32mimport\u001b[0m \u001b[0msys\u001b[0m\u001b[1;33m\u001b[0m\u001b[0m\n\u001b[0;32m----> 2\u001b[0;31m \u001b[1;32mimport\u001b[0m \u001b[0mStringIO\u001b[0m\u001b[1;33m\u001b[0m\u001b[0m\n\u001b[0m\u001b[1;32m      3\u001b[0m \u001b[1;33m\u001b[0m\u001b[0m\n\u001b[1;32m      4\u001b[0m \u001b[0mstdout\u001b[0m \u001b[1;33m=\u001b[0m \u001b[0msys\u001b[0m\u001b[1;33m.\u001b[0m\u001b[0mstdout\u001b[0m    \u001b[1;31m# 표준 출력 저장해 두기\u001b[0m\u001b[1;33m\u001b[0m\u001b[0m\n\u001b[1;32m      5\u001b[0m \u001b[0msys\u001b[0m\u001b[1;33m.\u001b[0m\u001b[0mstdout\u001b[0m \u001b[1;33m=\u001b[0m \u001b[0mf\u001b[0m \u001b[1;33m=\u001b[0m \u001b[0mStringIO\u001b[0m\u001b[1;33m.\u001b[0m\u001b[0mStringIO\u001b[0m\u001b[1;33m(\u001b[0m\u001b[1;33m)\u001b[0m\u001b[1;33m\u001b[0m\u001b[0m\n",
      "\u001b[0;31mModuleNotFoundError\u001b[0m: No module named 'StringIO'"
     ],
     "output_type": "error"
    }
   ],
   "source": [
    "# •표준 출력으로 문자열 객체에 내용 작성하기\n",
    "import sys\n",
    "import StringIO\n",
    "\n",
    "stdout = sys.stdout    # 표준 출력 저장해 두기\n",
    "sys.stdout = f = StringIO.StringIO()  \n",
    "\n",
    "print(type(f))\n",
    "print('Sample output')\n",
    "print('Good')\n",
    "print('Good')\n",
    "\n",
    "sys.stdout = stdout"
   ]
  },
  {
   "cell_type": "code",
   "execution_count": 33,
   "metadata": {
    "collapsed": false
   },
   "outputs": [
    {
     "ename": "AttributeError",
     "evalue": "'_io.TextIOWrapper' object has no attribute 'getvalue'",
     "traceback": [
      "\u001b[0;31m---------------------------------------------------------------------------\u001b[0m",
      "\u001b[0;31mAttributeError\u001b[0m                            Traceback (most recent call last)",
      "\u001b[0;32m<ipython-input-33-2a0d05765ff8>\u001b[0m in \u001b[0;36m<module>\u001b[0;34m()\u001b[0m\n\u001b[0;32m----> 1\u001b[0;31m \u001b[0ms\u001b[0m \u001b[1;33m=\u001b[0m \u001b[0mf\u001b[0m\u001b[1;33m.\u001b[0m\u001b[0mgetvalue\u001b[0m\u001b[1;33m(\u001b[0m\u001b[1;33m)\u001b[0m\u001b[1;33m\u001b[0m\u001b[0m\n\u001b[0m\u001b[1;32m      2\u001b[0m \u001b[1;33m\u001b[0m\u001b[0m\n\u001b[1;32m      3\u001b[0m \u001b[0mprint\u001b[0m\u001b[1;33m(\u001b[0m\u001b[1;34m'Done-------'\u001b[0m\u001b[1;33m)\u001b[0m\u001b[1;33m\u001b[0m\u001b[0m\n\u001b[1;32m      4\u001b[0m \u001b[0mprint\u001b[0m\u001b[1;33m(\u001b[0m\u001b[0ms\u001b[0m\u001b[1;33m)\u001b[0m\u001b[1;33m\u001b[0m\u001b[0m\n",
      "\u001b[0;31mAttributeError\u001b[0m: '_io.TextIOWrapper' object has no attribute 'getvalue'"
     ],
     "output_type": "error"
    }
   ],
   "source": [
    "s = f.getvalue()\n",
    "\n",
    "print('Done-------')\n",
    "print(s)"
   ]
  },
  {
   "cell_type": "code",
   "execution_count": 35,
   "metadata": {
    "collapsed": false
   },
   "outputs": [
    {
     "ename": "TypeError",
     "evalue": "write() argument must be str, not bytes",
     "traceback": [
      "\u001b[0;31m---------------------------------------------------------------------------\u001b[0m",
      "\u001b[0;31mTypeError\u001b[0m                                 Traceback (most recent call last)",
      "\u001b[0;32m<ipython-input-35-d8ac18ee6076>\u001b[0m in \u001b[0;36m<module>\u001b[0;34m()\u001b[0m\n\u001b[1;32m      7\u001b[0m \u001b[0mf\u001b[0m \u001b[1;33m=\u001b[0m \u001b[0mopen\u001b[0m\u001b[1;33m(\u001b[0m\u001b[1;34m'pickle.txt'\u001b[0m\u001b[1;33m,\u001b[0m \u001b[1;34m'w'\u001b[0m\u001b[1;33m)\u001b[0m \u001b[1;31m# 파일 객체를 얻는다.\u001b[0m\u001b[1;33m\u001b[0m\u001b[0m\n\u001b[1;32m      8\u001b[0m \u001b[1;33m\u001b[0m\u001b[0m\n\u001b[0;32m----> 9\u001b[0;31m \u001b[0mpickle\u001b[0m\u001b[1;33m.\u001b[0m\u001b[0mdump\u001b[0m\u001b[1;33m(\u001b[0m\u001b[0mTuple\u001b[0m\u001b[1;33m,\u001b[0m \u001b[0mf\u001b[0m\u001b[1;33m)\u001b[0m \u001b[1;31m# 파일로 출력(pickling), 복합 객체 출력\u001b[0m\u001b[1;33m\u001b[0m\u001b[0m\n\u001b[0m\u001b[1;32m     10\u001b[0m \u001b[0mf\u001b[0m\u001b[1;33m.\u001b[0m\u001b[0mclose\u001b[0m\u001b[1;33m(\u001b[0m\u001b[1;33m)\u001b[0m\u001b[1;33m\u001b[0m\u001b[0m\n\u001b[1;32m     11\u001b[0m \u001b[1;33m\u001b[0m\u001b[0m\n",
      "\u001b[0;31mTypeError\u001b[0m: write() argument must be str, not bytes"
     ],
     "output_type": "error"
    }
   ],
   "source": [
    "import pickle\n",
    "\n",
    "phone = {'tom':4358382, 'jack':9465215, 'jim':6851325, 'Joseph':6584321}\n",
    "List = ['string', 1234, 0.2345]\n",
    "Tuple = (phone, List) # 리스트, 튜플, 사전의 복합 객체\n",
    "\n",
    "f = open('pickle.txt', 'w') # 파일 객체를 얻는다.\n",
    "\n",
    "pickle.dump(Tuple, f) # 파일로 출력(pickling), 복합 객체 출력 \n",
    "f.close() \n",
    "\n",
    "f = open('pickle.txt')     \n",
    "                      \n",
    "x,y = pickle.load(f) # 파일에서 읽어오기. 튜플의 내용을 x, y에 받는다.\n",
    "print(x) # 사전\n",
    "print(y) # 리스트"
   ]
  },
  {
   "cell_type": "code",
   "execution_count": 36,
   "metadata": {
    "collapsed": false
   },
   "outputs": [
    {
     "ename": "TypeError",
     "evalue": "write() argument must be str, not bytes",
     "traceback": [
      "\u001b[0;31m---------------------------------------------------------------------------\u001b[0m",
      "\u001b[0;31mTypeError\u001b[0m                                 Traceback (most recent call last)",
      "\u001b[0;32m<ipython-input-36-1a11efda0949>\u001b[0m in \u001b[0;36m<module>\u001b[0;34m()\u001b[0m\n\u001b[1;32m      8\u001b[0m \u001b[1;33m\u001b[0m\u001b[0m\n\u001b[1;32m      9\u001b[0m \u001b[0mf\u001b[0m \u001b[1;33m=\u001b[0m \u001b[0mopen\u001b[0m\u001b[1;33m(\u001b[0m\u001b[1;34m'pickle2.txt'\u001b[0m\u001b[1;33m,\u001b[0m \u001b[1;34m'w'\u001b[0m\u001b[1;33m)\u001b[0m\u001b[1;33m\u001b[0m\u001b[0m\n\u001b[0;32m---> 10\u001b[0;31m \u001b[0mpickle\u001b[0m\u001b[1;33m.\u001b[0m\u001b[0mdump\u001b[0m\u001b[1;33m(\u001b[0m\u001b[0ms\u001b[0m\u001b[1;33m,\u001b[0m \u001b[0mf\u001b[0m\u001b[1;33m)\u001b[0m \u001b[1;31m# 인스턴스 저장\u001b[0m\u001b[1;33m\u001b[0m\u001b[0m\n\u001b[0m\u001b[1;32m     11\u001b[0m \u001b[0mf\u001b[0m\u001b[1;33m.\u001b[0m\u001b[0mclose\u001b[0m\u001b[1;33m(\u001b[0m\u001b[1;33m)\u001b[0m\u001b[1;33m\u001b[0m\u001b[0m\n\u001b[1;32m     12\u001b[0m \u001b[1;33m\u001b[0m\u001b[0m\n",
      "\u001b[0;31mTypeError\u001b[0m: write() argument must be str, not bytes"
     ],
     "output_type": "error"
    }
   ],
   "source": [
    "import pickle\n",
    "\n",
    "class Simple: # 가장 단순한 클래스를 정의\n",
    "    pass\n",
    "\n",
    "s = Simple() # 인스턴스 객체 생성\n",
    "s.count = 10 # 인스턴스 이름 공간에 변수 생성\n",
    "\n",
    "f = open('pickle2.txt', 'w')\n",
    "pickle.dump(s, f) # 인스턴스 저장\n",
    "f.close()\n",
    "\n",
    "f = open('pickle2.txt')\n",
    "t = pickle.load(f) # 인스턴스 가져오기\n",
    "print(t.count)"
   ]
  },
  {
   "cell_type": "code",
   "execution_count": 37,
   "metadata": {
    "collapsed": false
   },
   "outputs": [
    {
     "name": "stdout",
     "output_type": "stream",
     "text": [
      "['.ipynb_checkpoints', 'cal.py', 'E-Learning 9 10.ipynb', 'E-learning_1.ipynb', 'E-learning_2.ipynb', 'html.txt', 'Incremental Project.ipynb', 'pickle.txt', 'pickle2.txt', 'removeme.txt', 't.txt', 't1.txt']\n",
      "\n",
      "['2013136018_김수빈_과제2.hwp', 'algorithm_Assignment1', 'algorithm_Assignment2', 'algorithm_Assignment3', 'desktop.ini', 'digitalwork', 'digitalwork.zip', 'Eclipse Java Neon.lnk', 'GomRecorder.exe - 바로 가기.lnk', 'Guitar Pro 5.lnk', 'Microsoft Visual Studio 2010.lnk', 'osAssignment', 'Python', 'Quartus II 13.0sp1 (64-bit) Web Edition.lnk', 'test', 'Thumbs.db', 'ubuntu-16.04.2-desktop-amd64.iso', '부분공간 기저 차원과 계수.pptx', '우분투컴파일캡처.PNG', '졸작변경.hwp']\n"
     ]
    }
   ],
   "source": [
    "# •os.listdir('경로')◾디렉토리 안에 들어 있는 각 파일 목록 반환\n",
    "\n",
    "import os\n",
    "\n",
    "print(os.listdir('.'))   # 현재 디렉토리의 파일 목록 얻기\n",
    "print()\n",
    "\n",
    "print(os.listdir('../')) # 현재 디렉토리의 부모 디렉토리의 파일 목록 얻기"
   ]
  },
  {
   "cell_type": "code",
   "execution_count": 39,
   "metadata": {
    "collapsed": false
   },
   "outputs": [
    {
     "name": "stdout",
     "output_type": "stream",
     "text": [
      ".ipynb_checkpoints :\n",
      "Directory\n",
      "cal.py :\n",
      "Regular file\n",
      "E-Learning 9 10.ipynb :\n",
      "Regular file\n",
      "E-learning_1.ipynb :\n",
      "Regular file\n",
      "E-learning_2.ipynb :\n",
      "Regular file\n",
      "html.txt :\n",
      "Regular file\n",
      "Incremental Project.ipynb :\n",
      "Regular file\n",
      "pickle.txt :\n",
      "Regular file\n",
      "pickle2.txt :\n",
      "Regular file\n",
      "removeme.txt :\n",
      "Regular file\n",
      "t.txt :\n",
      "Regular file\n",
      "t1.txt :\n",
      "Regular file\n"
     ]
    }
   ],
   "source": [
    "#•os.path 모듈의 다음 함수들은 파일의 종류를 판단하여 True 또는 False를 반환한다.\n",
    "#◾isfile(filepath)◦순수 파일이면 True\n",
    "#◾isdir(filepath)◦디렉토리이면 True\n",
    "#◾islink(filepath)◦심볼릭링크이면 True\n",
    "\n",
    "import os\n",
    "def filetype(fpath):\n",
    "    print(fpath, ':',)\n",
    "    if os.path.isfile(fpath):\n",
    "        print('Regular file')\n",
    "    if os.path.isdir(fpath):\n",
    "        print('Directory')\n",
    "    if os.path.islink(fpath):\n",
    "        print('Symbolic link')\n",
    "        \n",
    "flist = os.listdir('.')\n",
    "for fname in flist:\n",
    "    filetype(fname)\n"
   ]
  },
  {
   "cell_type": "code",
   "execution_count": 40,
   "metadata": {
    "collapsed": false
   },
   "outputs": [
    {
     "name": "stdout",
     "output_type": "stream",
     "text": [
      ".ipynb_checkpoints :\n",
      "Exists\n",
      "R\n",
      "W\n",
      "X\n",
      "cal.py :\n",
      "Exists\n",
      "R\n",
      "W\n",
      "X\n",
      "E-Learning 9 10.ipynb :\n",
      "Exists\n",
      "R\n",
      "W\n",
      "X\n",
      "E-learning_1.ipynb :\n",
      "Exists\n",
      "R\n",
      "W\n",
      "X\n",
      "E-learning_2.ipynb :\n",
      "Exists\n",
      "R\n",
      "W\n",
      "X\n",
      "html.txt :\n",
      "Exists\n",
      "R\n",
      "W\n",
      "X\n",
      "Incremental Project.ipynb :\n",
      "Exists\n",
      "R\n",
      "W\n",
      "X\n",
      "pickle.txt :\n",
      "Exists\n",
      "R\n",
      "W\n",
      "X\n",
      "pickle2.txt :\n",
      "Exists\n",
      "R\n",
      "W\n",
      "X\n",
      "removeme.txt :\n",
      "Exists\n",
      "R\n",
      "W\n",
      "X\n",
      "t.txt :\n",
      "Exists\n",
      "R\n",
      "W\n",
      "X\n",
      "t1.txt :\n",
      "Exists\n",
      "R\n",
      "W\n",
      "X\n"
     ]
    }
   ],
   "source": [
    "#파일의 허가권 알아보기\n",
    "#•os.access(filepath, mode)\n",
    "#◾mode에 들어갈 값◦os.F_OK: 파일 자체가 존재하는 것을 테스트\n",
    "#◦os.R_OK: 읽기 권한이 있는 것을 테스트\n",
    "#◦os.W_OK: 쓰기 권한이 있는 것을 테스트\n",
    "#◦os.X_OK: 실행 권한이 있는 것(또는 디렉토리인지)을 테스트\n",
    "\n",
    "import os\n",
    "def fileaccess(fpath):\n",
    "    print(fpath, ':',)\n",
    "    if os.access(fpath, os.F_OK): \n",
    "        print('Exists',)\n",
    "    else: \n",
    "        return\n",
    "    if os.access(fpath, os.R_OK): \n",
    "        print('R',)\n",
    "    if os.access(fpath, os.W_OK): \n",
    "        print('W',)\n",
    "    if os.access(fpath, os.X_OK): \n",
    "        print('X',)\n",
    "    print \n",
    "    \n",
    "flist = os.listdir('.')\n",
    "for fname in flist:\n",
    "    fileaccess(fname)"
   ]
  },
  {
   "cell_type": "code",
   "execution_count": 56,
   "metadata": {
    "collapsed": false
   },
   "outputs": [
    {
     "name": "stdout",
     "output_type": "stream",
     "text": [
      "True\n",
      "False\n"
     ]
    }
   ],
   "source": [
    "#파일 이름 변경하기\n",
    "#•os.rename(old_filepath, new_filepath)\n",
    "\n",
    "import os\n",
    "os.rename('t123.txt', 't.txt')  # t.txt를 t1.txt로 바꾼다\n",
    "print(os.access('t.txt', os.F_OK))\n",
    "print(os.access('t123.txt', os.F_OK))"
   ]
  },
  {
   "cell_type": "code",
   "execution_count": 57,
   "metadata": {
    "collapsed": false
   },
   "outputs": [
    {
     "name": "stdout",
     "output_type": "stream",
     "text": [
      ".\n",
      "..\n",
      "\\\n"
     ]
    }
   ],
   "source": [
    "print(os.curdir) #현재 디렉토리\n",
    "print(os.pardir) #부모 디렉토리\n",
    "print(os.sep)    #디렉토리 분리문자 얻기"
   ]
  },
  {
   "cell_type": "code",
   "execution_count": 62,
   "metadata": {
    "collapsed": false
   },
   "outputs": [
    {
     "ename": "SyntaxError",
     "evalue": "(unicode error) 'unicodeescape' codec can't decode bytes in position 2-3: truncated \\UXXXXXXXX escape (<ipython-input-62-be5adeebc3b8>, line 1)",
     "traceback": [
      "\u001b[0;36m  File \u001b[0;32m\"<ipython-input-62-be5adeebc3b8>\"\u001b[0;36m, line \u001b[0;32m1\u001b[0m\n\u001b[0;31m    f = 'C:\\Users\\YGKIM\\Desktop\\Python\\t.txt'\u001b[0m\n\u001b[0m       ^\u001b[0m\n\u001b[0;31mSyntaxError\u001b[0m\u001b[0;31m:\u001b[0m (unicode error) 'unicodeescape' codec can't decode bytes in position 2-3: truncated \\UXXXXXXXX escape\n"
     ],
     "output_type": "error"
    }
   ],
   "source": [
    "f = 'C:\\Users\\YGKIM\\Desktop\\Python\\t.txt'\n",
    "\n",
    "print(os.path.basename(f)) # 파일명만 추출\n",
    "print(os.path.dirname(f))  # 디렉토리 경로 추출"
   ]
  },
  {
   "cell_type": "code",
   "execution_count": 59,
   "metadata": {
    "collapsed": false
   },
   "outputs": [
    {
     "ename": "TypeError",
     "evalue": "expected str, bytes or os.PathLike object, not _io.TextIOWrapper",
     "traceback": [
      "\u001b[0;31m---------------------------------------------------------------------------\u001b[0m",
      "\u001b[0;31mTypeError\u001b[0m                                 Traceback (most recent call last)",
      "\u001b[0;32m<ipython-input-59-ba46bb7d1215>\u001b[0m in \u001b[0;36m<module>\u001b[0;34m()\u001b[0m\n\u001b[0;32m----> 1\u001b[0;31m \u001b[0mprint\u001b[0m\u001b[1;33m(\u001b[0m\u001b[0mos\u001b[0m\u001b[1;33m.\u001b[0m\u001b[0mpath\u001b[0m\u001b[1;33m.\u001b[0m\u001b[0msplit\u001b[0m\u001b[1;33m(\u001b[0m\u001b[0mf\u001b[0m\u001b[1;33m)\u001b[0m\u001b[1;33m)\u001b[0m \u001b[1;31m# 경로와 파일명을 한번에 분리\u001b[0m\u001b[1;33m\u001b[0m\u001b[0m\n\u001b[0m\u001b[1;32m      2\u001b[0m \u001b[0mprint\u001b[0m\u001b[1;33m(\u001b[0m\u001b[0mos\u001b[0m\u001b[1;33m.\u001b[0m\u001b[0mpath\u001b[0m\u001b[1;33m.\u001b[0m\u001b[0msplitdrive\u001b[0m\u001b[1;33m(\u001b[0m\u001b[0mf\u001b[0m\u001b[1;33m)\u001b[0m\u001b[1;33m)\u001b[0m \u001b[1;31m# MS 윈도우즈에서 드라이브명과 파일 경로명을 분리\u001b[0m\u001b[1;33m\u001b[0m\u001b[0m\n\u001b[1;32m      3\u001b[0m \u001b[0mprint\u001b[0m\u001b[1;33m(\u001b[0m\u001b[0mos\u001b[0m\u001b[1;33m.\u001b[0m\u001b[0mpath\u001b[0m\u001b[1;33m.\u001b[0m\u001b[0msplitext\u001b[0m\u001b[1;33m(\u001b[0m\u001b[0mf\u001b[0m\u001b[1;33m)\u001b[0m\u001b[1;33m)\u001b[0m \u001b[1;31m# 확장자 분리\u001b[0m\u001b[1;33m\u001b[0m\u001b[0m\n",
      "\u001b[0;32mC:\\Users\\YGKIM\\Anaconda3\\lib\\ntpath.py\u001b[0m in \u001b[0;36msplit\u001b[0;34m(p)\u001b[0m\n\u001b[1;32m    202\u001b[0m     \u001b[0mReturn\u001b[0m \u001b[0mtuple\u001b[0m \u001b[1;33m(\u001b[0m\u001b[0mhead\u001b[0m\u001b[1;33m,\u001b[0m \u001b[0mtail\u001b[0m\u001b[1;33m)\u001b[0m \u001b[0mwhere\u001b[0m \u001b[0mtail\u001b[0m \u001b[1;32mis\u001b[0m \u001b[0meverything\u001b[0m \u001b[0mafter\u001b[0m \u001b[0mthe\u001b[0m \u001b[0mfinal\u001b[0m \u001b[0mslash\u001b[0m\u001b[1;33m.\u001b[0m\u001b[1;33m\u001b[0m\u001b[0m\n\u001b[1;32m    203\u001b[0m     Either part may be empty.\"\"\"\n\u001b[0;32m--> 204\u001b[0;31m     \u001b[0mp\u001b[0m \u001b[1;33m=\u001b[0m \u001b[0mos\u001b[0m\u001b[1;33m.\u001b[0m\u001b[0mfspath\u001b[0m\u001b[1;33m(\u001b[0m\u001b[0mp\u001b[0m\u001b[1;33m)\u001b[0m\u001b[1;33m\u001b[0m\u001b[0m\n\u001b[0m\u001b[1;32m    205\u001b[0m     \u001b[0mseps\u001b[0m \u001b[1;33m=\u001b[0m \u001b[0m_get_bothseps\u001b[0m\u001b[1;33m(\u001b[0m\u001b[0mp\u001b[0m\u001b[1;33m)\u001b[0m\u001b[1;33m\u001b[0m\u001b[0m\n\u001b[1;32m    206\u001b[0m     \u001b[0md\u001b[0m\u001b[1;33m,\u001b[0m \u001b[0mp\u001b[0m \u001b[1;33m=\u001b[0m \u001b[0msplitdrive\u001b[0m\u001b[1;33m(\u001b[0m\u001b[0mp\u001b[0m\u001b[1;33m)\u001b[0m\u001b[1;33m\u001b[0m\u001b[0m\n",
      "\u001b[0;31mTypeError\u001b[0m: expected str, bytes or os.PathLike object, not _io.TextIOWrapper"
     ],
     "output_type": "error"
    }
   ],
   "source": [
    "print(os.path.split(f)) # 경로와 파일명을 한번에 분리\n",
    "print(os.path.splitdrive(f)) # MS 윈도우즈에서 드라이브명과 파일 경로명을 분리\n",
    "print(os.path.splitext(f)) # 확장자 분리"
   ]
  },
  {
   "cell_type": "code",
   "execution_count": 61,
   "metadata": {
    "collapsed": false
   },
   "outputs": [
    {
     "name": "stdout",
     "output_type": "stream",
     "text": [
      "C:\\Users\\YGKIM\\Desktop\\Python\n"
     ]
    }
   ],
   "source": [
    "# 현재 작접 디렉토리 알아보기\n",
    "import os\n",
    "print(os.getcwd())"
   ]
  },
  {
   "cell_type": "code",
   "execution_count": 65,
   "metadata": {
    "collapsed": false
   },
   "outputs": [
    {
     "ename": "SyntaxError",
     "evalue": "(unicode error) 'unicodeescape' codec can't decode bytes in position 2-3: truncated \\UXXXXXXXX escape (<ipython-input-65-6ea3d549af7b>, line 2)",
     "traceback": [
      "\u001b[0;36m  File \u001b[0;32m\"<ipython-input-65-6ea3d549af7b>\"\u001b[0;36m, line \u001b[0;32m2\u001b[0m\n\u001b[0;31m    os.chdir('C:\\Users\\YGKIM\\Desktop\\test')\u001b[0m\n\u001b[0m            ^\u001b[0m\n\u001b[0;31mSyntaxError\u001b[0m\u001b[0;31m:\u001b[0m (unicode error) 'unicodeescape' codec can't decode bytes in position 2-3: truncated \\UXXXXXXXX escape\n"
     ],
     "output_type": "error"
    }
   ],
   "source": [
    "# 작업 디렉토리 변경하기\n",
    "os.chdir('C:\\Users\\YGKIM\\Desktop\\test')\n",
    "print(os.getcwd())"
   ]
  },
  {
   "cell_type": "code",
   "execution_count": 78,
   "metadata": {
    "collapsed": false
   },
   "outputs": [
    {
     "name": "stdout",
     "output_type": "stream",
     "text": [
      "False\n",
      "False\n",
      "False\n"
     ]
    }
   ],
   "source": [
    "# 디렉토리 만들기\n",
    "import os\n",
    "\n",
    "os.mkdir('temp')        # 0755 기본 모드(rwxr-xr-x)로 만들어짐\n",
    "#os.mkdir('temp2', 0700) # 0700 모드(rwx------)로 만들어짐 허가권 설정은 리눅스 환경이기 때문???\n",
    "os.makedirs('temp/level1/level2') #0755 기본 모드, 중간에 필요한 디렉토리도 모두생성\n",
    "\n",
    "print(os.access('/Users/yhhan/Public/temp', os.F_OK))\n",
    "print(os.access('/Users/yhhan/Public/temp2', os.F_OK))\n",
    "print(os.access('/Users/yhhan/Public/temp/level1/level2', os.F_OK))"
   ]
  },
  {
   "cell_type": "code",
   "execution_count": 72,
   "metadata": {
    "collapsed": false
   },
   "outputs": [
    {
     "ename": "FileNotFoundError",
     "evalue": "[WinError 2] 지정된 파일을 찾을 수 없습니다: 'test'",
     "traceback": [
      "\u001b[0;31m---------------------------------------------------------------------------\u001b[0m",
      "\u001b[0;31mFileNotFoundError\u001b[0m                         Traceback (most recent call last)",
      "\u001b[0;32m<ipython-input-72-7cafca7503fa>\u001b[0m in \u001b[0;36m<module>\u001b[0;34m()\u001b[0m\n\u001b[0;32m----> 1\u001b[0;31m \u001b[0mos\u001b[0m\u001b[1;33m.\u001b[0m\u001b[0mrmdir\u001b[0m\u001b[1;33m(\u001b[0m\u001b[1;34m'test'\u001b[0m\u001b[1;33m)\u001b[0m \u001b[1;31m#디렉토리에 내용이 없을 때 삭제가능\u001b[0m\u001b[1;33m\u001b[0m\u001b[0m\n\u001b[0m\u001b[1;32m      2\u001b[0m \u001b[0mos\u001b[0m\u001b[1;33m.\u001b[0m\u001b[0mrmdir\u001b[0m\u001b[1;33m(\u001b[0m\u001b[1;34m'temp'\u001b[0m\u001b[1;33m)\u001b[0m \u001b[1;31m#디렉토리에 다른 파일이 있으면 삭제할 수 없음\u001b[0m\u001b[1;33m\u001b[0m\u001b[0m\n",
      "\u001b[0;31mFileNotFoundError\u001b[0m: [WinError 2] 지정된 파일을 찾을 수 없습니다: 'test'"
     ],
     "output_type": "error"
    }
   ],
   "source": [
    "os.rmdir('test') #디렉토리에 내용이 없을 때 삭제가능\n",
    "os.rmdir('temp') #디렉토리에 다른 파일이 있으면 삭제할 수 없음"
   ]
  },
  {
   "cell_type": "code",
   "execution_count": 75,
   "metadata": {
    "collapsed": false
   },
   "outputs": [],
   "source": [
    "#•os.removedirs(filepath)\n",
    "#◾filepath에 지정된 디렉토리들 중 맨 오른쪽 디렉토리 부터 차례차례로 삭제한다.\n",
    "#◾디렉토리에 다른 파일이 있으면 삭제하기 않고 중단\n",
    "\n",
    "os.removedirs('temp/level1/level2')"
   ]
  },
  {
   "cell_type": "code",
   "execution_count": 79,
   "metadata": {
    "collapsed": true
   },
   "outputs": [],
   "source": [
    "#•shutil.rmtree()\n",
    "#◾파일은 물론 하위 디렉토리까지 모두 한번에 삭제 가능\n",
    "#◾조심해서 사용해야 함\n",
    "\n",
    "import shutil\n",
    "shutil.rmtree('temp')"
   ]
  },
  {
   "cell_type": "code",
   "execution_count": 81,
   "metadata": {
    "collapsed": false
   },
   "outputs": [
    {
     "data": {
      "text/plain": [
       "'myweb_backup'"
      ]
     },
     "execution_count": 81,
     "metadata": {},
     "output_type": "execute_result"
    }
   ],
   "source": [
    "#•shutil.copytree(src_filepath, dest_filepath)◾하위 디렉토리와 파일등을 지니고 있는 디렉토리를 복사\n",
    "\n",
    "os.mkdir('temp')        \n",
    "os.mkdir('temp/temp2')\n",
    "shutil.copytree('temp', 'myweb_backup')"
   ]
  },
  {
   "cell_type": "code",
   "execution_count": 82,
   "metadata": {
    "collapsed": false
   },
   "outputs": [
    {
     "ename": "SyntaxError",
     "evalue": "(unicode error) 'unicodeescape' codec can't decode bytes in position 2-3: truncated \\UXXXXXXXX escape (<ipython-input-82-874b01c9b497>, line 8)",
     "traceback": [
      "\u001b[0;36m  File \u001b[0;32m\"<ipython-input-82-874b01c9b497>\"\u001b[0;36m, line \u001b[0;32m8\u001b[0m\n\u001b[0;31m    os.chdir('C:\\Users\\YGKIM\\Desktop\\Python\\temp')\u001b[0m\n\u001b[0m            ^\u001b[0m\n\u001b[0;31mSyntaxError\u001b[0m\u001b[0;31m:\u001b[0m (unicode error) 'unicodeescape' codec can't decode bytes in position 2-3: truncated \\UXXXXXXXX escape\n"
     ],
     "output_type": "error"
    }
   ],
   "source": [
    "#•os.walk(filepath)\n",
    "#◾filepath 부터 시작하여 재귀적으로 모든 하위 디렉토리까지 탐색을 하는 함수\n",
    "#◾탐색시 발견하는 모든 파일에 대해서는 다음 튜플을 리턴함◦(dirpath, dirnames, filemnames)◦dirpath: 탐색하고 있는 디렉토리 경로\n",
    "#◦dirnames: dirpath 안에 존재하는 서브 디렉토리의 리스트\n",
    "#◦filenames: dirpath 안에 존재하는 파일 리스트\n",
    "\n",
    "import os\n",
    "os.chdir('C:\\Users\\YGKIM\\Desktop\\Python\\temp')\n",
    "print(os.getcwd())\n",
    "print()\n",
    "for path, subdirs, files in os.walk(os.getcwd()):\n",
    "    for fname in files:\n",
    "        if fname.endswith('.txt'):\n",
    "            fullpath = os.path.join(path, fname)\n",
    "            print('removing', fullpath)\n",
    "            os.remove(fullpath)"
   ]
  },
  {
   "cell_type": "code",
   "execution_count": 83,
   "metadata": {
    "collapsed": false
   },
   "outputs": [
    {
     "name": "stdout",
     "output_type": "stream",
     "text": [
      "3\n",
      "\n",
      "4\n",
      "4\n"
     ]
    }
   ],
   "source": [
    "def add(a, b):\n",
    "    return a+b\n",
    "\n",
    "print(add(1, 2))\n",
    "print()\n",
    "\n",
    "def myabs(x):\n",
    "    if x < 0 : \n",
    "        x = -x\n",
    "    return x\n",
    "\n",
    "print(abs(-4))\n",
    "print(myabs(-4))"
   ]
  },
  {
   "cell_type": "code",
   "execution_count": 84,
   "metadata": {
    "collapsed": false
   },
   "outputs": [
    {
     "name": "stdout",
     "output_type": "stream",
     "text": [
      "<function add at 0x0000023D409E9EA0>\n"
     ]
    }
   ],
   "source": [
    "#•함수의 이름 자체는 함수 객체의 레퍼런스(Reference)를 지니고 있다.\n",
    "def add(a, b):\n",
    "    return a + b\n",
    "\n",
    "print(add)"
   ]
  },
  {
   "cell_type": "code",
   "execution_count": 86,
   "metadata": {
    "collapsed": false
   },
   "outputs": [
    {
     "name": "stdout",
     "output_type": "stream",
     "text": [
      "40\n"
     ]
    }
   ],
   "source": [
    "c = add(10, 30)\n",
    "print(c)"
   ]
  },
  {
   "cell_type": "code",
   "execution_count": 87,
   "metadata": {
    "collapsed": false
   },
   "outputs": [
    {
     "name": "stdout",
     "output_type": "stream",
     "text": [
      "9\n"
     ]
    }
   ],
   "source": [
    "#•함수 이름에 저장된 레퍼런스를 다른 변수에 할당하여 그 변수를 이용한 함수 호출 가능\n",
    "f = add\n",
    "print(f(4, 5))"
   ]
  },
  {
   "cell_type": "code",
   "execution_count": 88,
   "metadata": {
    "collapsed": false
   },
   "outputs": [
    {
     "name": "stdout",
     "output_type": "stream",
     "text": [
      "<function add at 0x0000023D409E9EA0>\n",
      "True\n"
     ]
    }
   ],
   "source": [
    "print(f)\n",
    "\n",
    "print(f is add)"
   ]
  },
  {
   "cell_type": "code",
   "execution_count": null,
   "metadata": {
    "collapsed": true
   },
   "outputs": [],
   "source": [
    "#•함수의 몸체에는 최소한 한개 이상의 statement가 존재해야 함\n",
    "#◾아무런 내용이 없는 몸체를 지닌 함수를 만들 때에는 pass 라는 키워드를 몸체에 적어주어야 함\n",
    "\n",
    "def simpleFunction():\n",
    "    pass\n",
    "\n",
    "simpleFunction()"
   ]
  },
  {
   "cell_type": "code",
   "execution_count": 89,
   "metadata": {
    "collapsed": false
   },
   "outputs": [
    {
     "name": "stdout",
     "output_type": "stream",
     "text": [
      "['hwang', 'lee', 'park', 'youn', 'jo']\n"
     ]
    }
   ],
   "source": [
    "#•함수 사용 예\n",
    "def addmember(members, newmember):\n",
    "    if newmember not in members:   # 기존 멤버가 아니면\n",
    "        members.append(newmember)  # 추가\n",
    "\n",
    "members = ['hwang', 'lee', 'park', 'youn']  # 리스트에 초기 멤버 설정\n",
    "\n",
    "addmember(members, 'jo')  # 새로운 멤버 추가\n",
    "\n",
    "addmember(members, 'hwang') # (이미 존재하는) 새로운 멤버 추가\n",
    "\n",
    "print(members)"
   ]
  },
  {
   "cell_type": "code",
   "execution_count": 92,
   "metadata": {
    "collapsed": false
   },
   "outputs": [
    {
     "name": "stdout",
     "output_type": "stream",
     "text": [
      "200\n"
     ]
    }
   ],
   "source": [
    "#•파이썬에서의 인수값 전달 방법\n",
    "#◾기본적으로 값에 의한 호출(Call-by-Value)\n",
    "#◾하지만 변수에 저장된 값이 참조값(Reference)이므로 실제로는 참조에 의한 호출(Call-by-Reference)로 실행됨\n",
    "#\n",
    "#•함수 인자에 변경불가능(Immutable) 객체인 숫자값을 전달\n",
    "#◾함수 내에서 다른 숫자값으로 치환 --> 의미 없는 인자 전달\n",
    "\n",
    "def f1(b):\n",
    "    b = 100\n",
    "\n",
    "a = 200\n",
    "f1(a)\n",
    "print(a)"
   ]
  },
  {
   "cell_type": "code",
   "execution_count": 93,
   "metadata": {
    "collapsed": false
   },
   "outputs": [
    {
     "name": "stdout",
     "output_type": "stream",
     "text": [
      "def\n"
     ]
    }
   ],
   "source": [
    "#•함수 인자에 변경불가능(Immutable) 객체인 문자열을 전달\n",
    "#◾함수 내에서 다른 문자열로 치환 --> 의미 없는 인자 전달\n",
    "\n",
    "def f2(b):\n",
    "    b = \"abc\"\n",
    "\n",
    "a = \"def\"\n",
    "f2(a)\n",
    "print(a)"
   ]
  },
  {
   "cell_type": "code",
   "execution_count": 95,
   "metadata": {
    "collapsed": false
   },
   "outputs": [
    {
     "name": "stdout",
     "output_type": "stream",
     "text": [
      "(4, 5, 6)\n"
     ]
    }
   ],
   "source": [
    "#•함수 인자에 변경불가능(Immutable) 객체인 튜플을 전달\n",
    "#◾함수 내에서 다른 튜플로 치환 --> 의미 없는 인자 전달\n",
    "\n",
    "def f3(b):\n",
    "    b = (1,2,3)\n",
    "\n",
    "a = (4,5,6)\n",
    "f3(a)\n",
    "print(a)"
   ]
  },
  {
   "cell_type": "code",
   "execution_count": 96,
   "metadata": {
    "collapsed": false
   },
   "outputs": [
    {
     "name": "stdout",
     "output_type": "stream",
     "text": [
      "[4, 10, 6]\n"
     ]
    }
   ],
   "source": [
    "#•함수 인자에 변경가능한(Mutable)한 객체인 리스트 전달 및 내용 수정\n",
    "#◾전형적인 함수 인자 전달법 및 활용법\n",
    "\n",
    "def f4(b):\n",
    "    b[1] = 10\n",
    "\n",
    "a = [4,5,6]\n",
    "f4(a)\n",
    "print(a)"
   ]
  },
  {
   "cell_type": "code",
   "execution_count": null,
   "metadata": {
    "collapsed": true
   },
   "outputs": [],
   "source": [
    "#•함수 인자에 변경가능한(Mutable)한 객체인 사전 전달 및 내용 수정\n",
    "#◾전형적인 함수 인자 전달법 및 활용법\n",
    "\n",
    "def f5(b):\n",
    "    b['a'] = 10\n",
    "\n",
    "a = {\"a\":1, \"b\":2}\n",
    "f5(a)\n",
    "print(a)"
   ]
  },
  {
   "cell_type": "code",
   "execution_count": 99,
   "metadata": {
    "collapsed": false
   },
   "outputs": [
    {
     "name": "stdout",
     "output_type": "stream",
     "text": [
      "None\n",
      "\n",
      "1. Snack\n",
      "2. Snake\n",
      "3. Snick\n",
      "\n",
      "1. Snack\n",
      "2. Snake\n",
      "3. Snick\n",
      "None\n"
     ]
    }
   ],
   "source": [
    "#•인수 없이 return 문을 사용하면 실제로는 None 객체가 전달된다.\n",
    "#◾None 객체: 파이썬 내장 객체로서 아무 값도 없음을 나타내기 위한 객체\n",
    "\n",
    "def nothing():\n",
    "    return\n",
    "\n",
    "print(nothing())\n",
    "print()\n",
    "\n",
    "#•return문 없이 리턴하기\n",
    "def print_menu():\n",
    "    print('1. Snack')\n",
    "    print('2. Snake')\n",
    "    print('3. Snick')\n",
    "    \n",
    "print_menu()\n",
    "print()\n",
    "\n",
    "#•return문 없는 함수라고 할 지라도 실제로는 None 객체가 전달됨\n",
    "a = print_menu()\n",
    "print(a)"
   ]
  },
  {
   "cell_type": "code",
   "execution_count": 4,
   "metadata": {
    "collapsed": false
   },
   "outputs": [
    {
     "name": "stdout",
     "output_type": "stream",
     "text": [
      "10\n",
      "\n",
      "10 20\n",
      "\n",
      "20 10\n",
      "\n",
      "20 10\n"
     ]
    }
   ],
   "source": [
    "# 한 대의 값을 리턴할 때\n",
    "def abs(x):\n",
    "    if x < 0 : return -x\n",
    "    return x\n",
    "\n",
    "print (abs(-10))\n",
    "print ()\n",
    "\n",
    "\n",
    "#•두 개 이상의 값을 리턴할 때\n",
    "\n",
    "def swap(x, y):\n",
    "    return y, x   # 튜플로 리턴된다.\n",
    "\n",
    "a = 10\n",
    "b = 20\n",
    "print (a, b)\n",
    "print ()\n",
    "\n",
    "a, b = swap(a, b) # 결과적으로 a, b = b, a와 동일\n",
    "print (a, b)\n",
    "print()\n",
    "\n",
    "a = 10\n",
    "b = 20\n",
    "x = swap(a, b)\n",
    "print (x[0], x[1])  # 하나의 이름으로 튜플을 받아서 처리할 수 도있다."
   ]
  },
  {
   "cell_type": "code",
   "execution_count": 6,
   "metadata": {
    "collapsed": false
   },
   "outputs": [
    {
     "name": "stdout",
     "output_type": "stream",
     "text": [
      "[6, 5, 7, 5]\n",
      "[6, 5, 7, 5]\n"
     ]
    }
   ],
   "source": [
    "#•새로운 리스트를 리턴하는 함수 예\n",
    "#◾문자열 리스트를 받아서 각 문자열의 길이 정보를 지닌 리스트를 리턴 \n",
    "\n",
    "def length_list(l):\n",
    "    res = []\n",
    "    for el in l:\n",
    "        res.append(len(el))\n",
    "    return res\n",
    "\n",
    "l = ['python', 'pyson', 'pythong', 'pydon']\n",
    "print (length_list(l))\n",
    "\n",
    "\n",
    "l = ['python', 'pyson', 'pythong', 'pydon']\n",
    "print ([len(s) for s in l])"
   ]
  },
  {
   "cell_type": "code",
   "execution_count": 7,
   "metadata": {
    "collapsed": false
   },
   "outputs": [
    {
     "name": "stdout",
     "output_type": "stream",
     "text": [
      "4.4\n",
      "dynamictyping\n",
      "['list', 'and', 'list']\n"
     ]
    }
   ],
   "source": [
    "#함수 인자에 대한 동적인 자료형 결정\n",
    "#•파이썬에서는 모든 객체는 동적으로 (실행시간에) 그 타입이 결정된다.\n",
    "#•그러므로, 함수 인자는 함수가 호출되는 순간 해당 인자에 전달되는 객체에 따라 그 타입이 결정된다.\n",
    "#◾함수 몸체 내에서 사용되는 여러가지 연산자들은 함수 호출시에 결정된 객체 타입에 맞게 실행된다.\n",
    "\n",
    "\n",
    "def add(a, b):\n",
    "    return a + b\n",
    "\n",
    "c = add(1, 3.4)\n",
    "d = add('dynamic', 'typing')\n",
    "e = add(['list'], ['and', 'list'])\n",
    "print (c)\n",
    "print (d)\n",
    "print (e)"
   ]
  },
  {
   "cell_type": "code",
   "execution_count": 9,
   "metadata": {
    "collapsed": false
   },
   "outputs": [
    {
     "name": "stdout",
     "output_type": "stream",
     "text": [
      "2\n",
      "12\n"
     ]
    }
   ],
   "source": [
    "#•기본 인수 값\n",
    "#◾함수를 호출할 때 인수를 넘겨주지 않아도 인수가 기본적으로 가지는 값\n",
    "\n",
    "def incr(a, step=1):\n",
    "    return a + step\n",
    "\n",
    "b = 1\n",
    "b = incr(b)     # 1 증가\n",
    "print (b)\n",
    "\n",
    "b = incr(b, 10) # 10 증가\n",
    "print (b)"
   ]
  },
  {
   "cell_type": "code",
   "execution_count": 10,
   "metadata": {
    "collapsed": false
   },
   "outputs": [
    {
     "ename": "SyntaxError",
     "evalue": "non-default argument follows default argument (<ipython-input-10-4831985c124e>, line 3)",
     "traceback": [
      "\u001b[0;36m  File \u001b[0;32m\"<ipython-input-10-4831985c124e>\"\u001b[0;36m, line \u001b[0;32m3\u001b[0m\n\u001b[0;31m    def incr(step=1, a):\u001b[0m\n\u001b[0m            ^\u001b[0m\n\u001b[0;31mSyntaxError\u001b[0m\u001b[0;31m:\u001b[0m non-default argument follows default argument\n"
     ],
     "output_type": "error"
    }
   ],
   "source": [
    "#•[주의] 함수 정의를 할 때 기본 값을 지닌 인수 뒤에 일반적인 인수가 올 수 없음\n",
    "\n",
    "def incr(step=1, a):\n",
    "    return a + step"
   ]
  },
  {
   "cell_type": "code",
   "execution_count": 12,
   "metadata": {
    "collapsed": false
   },
   "outputs": [
    {
     "name": "stdout",
     "output_type": "stream",
     "text": [
      "21\n"
     ]
    }
   ],
   "source": [
    "#•함수 정의 시에 여러 개의 기본 인수 값 정의 가능\n",
    "def incr(a, step=1, step2=10):\n",
    "    return a + step + step2\n",
    "\n",
    "print (incr(10))"
   ]
  },
  {
   "cell_type": "code",
   "execution_count": 13,
   "metadata": {
    "collapsed": false
   },
   "outputs": [
    {
     "name": "stdout",
     "output_type": "stream",
     "text": [
      "height string height string height string \n",
      "200\n",
      "100\n"
     ]
    }
   ],
   "source": [
    "#•키워드 인수\n",
    "#◾인수 값 전달 시에 인수 이름과 함께 값을 전달하는 방식을 일컫는다.\n",
    "\n",
    "def area(height, width):\n",
    "    return height * width\n",
    "\n",
    "#순서가 아닌 이름으로 값이 전달\n",
    "a = area(height='height string ', width=3)\n",
    "print (a)\n",
    "\n",
    "b = area(width=20, height=10)\n",
    "print (b)\n",
    "\n",
    "\n",
    "\n",
    "#•함수를 호출 할 때에 키워드 인수는 마지막에 놓여져야 한다.\n",
    "\n",
    "print (area(20, width=5))"
   ]
  },
  {
   "cell_type": "code",
   "execution_count": 14,
   "metadata": {
    "collapsed": false
   },
   "outputs": [
    {
     "ename": "SyntaxError",
     "evalue": "positional argument follows keyword argument (<ipython-input-14-f1cbd0680035>, line 3)",
     "traceback": [
      "\u001b[0;36m  File \u001b[0;32m\"<ipython-input-14-f1cbd0680035>\"\u001b[0;36m, line \u001b[0;32m3\u001b[0m\n\u001b[0;31m    area(width=5, 20)\u001b[0m\n\u001b[0m                 ^\u001b[0m\n\u001b[0;31mSyntaxError\u001b[0m\u001b[0;31m:\u001b[0m positional argument follows keyword argument\n"
     ],
     "output_type": "error"
    }
   ],
   "source": [
    "#•[주의] 함수 호출시에 키워드 인수 뒤에 일반 인수 값이 올 수 없다\n",
    "\n",
    "area(width=5, 20)"
   ]
  },
  {
   "cell_type": "code",
   "execution_count": 15,
   "metadata": {
    "collapsed": false
   },
   "outputs": [
    {
     "name": "stdout",
     "output_type": "stream",
     "text": [
      "212\n"
     ]
    }
   ],
   "source": [
    "#•기본 인수값 및 키워드 인수의 혼용\n",
    "def incr(a, step=1, step2=10, step3=100):\n",
    "    return a + step + step2 + step3\n",
    "\n",
    "print(incr(10, 2, step2=100))"
   ]
  },
  {
   "cell_type": "code",
   "execution_count": 16,
   "metadata": {
    "collapsed": false
   },
   "outputs": [
    {
     "ename": "SyntaxError",
     "evalue": "positional argument follows keyword argument (<ipython-input-16-c7368e92bb98>, line 4)",
     "traceback": [
      "\u001b[0;36m  File \u001b[0;32m\"<ipython-input-16-c7368e92bb98>\"\u001b[0;36m, line \u001b[0;32m4\u001b[0m\n\u001b[0;31m    print(incr(10, 2, step2=100, 200))\u001b[0m\n\u001b[0m                                ^\u001b[0m\n\u001b[0;31mSyntaxError\u001b[0m\u001b[0;31m:\u001b[0m positional argument follows keyword argument\n"
     ],
     "output_type": "error"
    }
   ],
   "source": [
    "#•함수 호출 시에 키워드 인수 뒤에 일반 인수 값이 오면 에러 \n",
    "def incr(a, step=1, step2=10, step3=100):\n",
    "    return a + step + step2 + step3\n",
    "\n",
    "print(incr(10, 2, step2=100, 200))"
   ]
  },
  {
   "cell_type": "code",
   "execution_count": 18,
   "metadata": {
    "collapsed": false
   },
   "outputs": [
    {
     "name": "stdout",
     "output_type": "stream",
     "text": [
      "312\n"
     ]
    }
   ],
   "source": [
    "def incr(a, step=1, step2=10, step3=100):\n",
    "    return a + step + step2 + step3\n",
    "\n",
    "print(incr(10, 2, step2=100, step3=200))"
   ]
  },
  {
   "cell_type": "code",
   "execution_count": 19,
   "metadata": {
    "collapsed": false
   },
   "outputs": [
    {
     "name": "stdout",
     "output_type": "stream",
     "text": [
      "1 ()\n",
      "2 (3,)\n",
      "2 (3, 4, 5, 6)\n"
     ]
    }
   ],
   "source": [
    "#•함수 정의시에 일반적인 인수 선언 뒤에 *var 형식의 인수로 가변 인수를 선언할 수 있음\n",
    "#◾var에는 함수 호출시 넣어주는 인수 값들 중 일반 인수에 할당되는 값을 제외한 나머지 값들을 지닌 튜플 객체가 할당된다.\n",
    "\n",
    "def varg(a, *arg):\n",
    "    print(a, arg)\n",
    "\n",
    "varg(1)\n",
    "varg(2,3)\n",
    "varg(2,3,4,5,6)"
   ]
  },
  {
   "cell_type": "code",
   "execution_count": 20,
   "metadata": {
    "collapsed": false
   },
   "outputs": [
    {
     "name": "stdout",
     "output_type": "stream",
     "text": [
      "I've spent 6 days and 5 night to do this\n"
     ]
    }
   ],
   "source": [
    "#•C언어의 printf문과 유사한 형태의 printf 정의 방법\n",
    "def printf(format, *args):\n",
    "    print (format % args)\n",
    "\n",
    "printf(\"I've spent %d days and %d night to do this\", 6, 5)"
   ]
  },
  {
   "cell_type": "code",
   "execution_count": 22,
   "metadata": {
    "collapsed": false
   },
   "outputs": [
    {
     "name": "stdout",
     "output_type": "stream",
     "text": [
      "1 2 3\n",
      "1 2 3\n"
     ]
    }
   ],
   "source": [
    "#•함수 호출에 사용될 인수값들이 튜플에 있다면 \"*튜플변수\"를 이용하여 함수 호출이 가능\n",
    "\n",
    "def h(a, b, c):\n",
    "    print (a,b,c)\n",
    "    \n",
    "args = (1, 2, 3)\n",
    "h(*args)\n",
    "\n",
    "\n",
    "\n",
    "#•함수 호출에 사용될 인수값들이 사전에 있다면 \"*사전변수\"를 이용하여 함수 호출이 가능\n",
    "\n",
    "\n",
    "dargs = {'a':1, 'b':2, 'c':3}\n",
    "h(**dargs)"
   ]
  },
  {
   "cell_type": "code",
   "execution_count": 23,
   "metadata": {
    "collapsed": false
   },
   "outputs": [
    {
     "name": "stdout",
     "output_type": "stream",
     "text": [
      "2\n",
      "3\n",
      "11\n",
      "15\n",
      "(2, 3, 4, 5)\n"
     ]
    }
   ],
   "source": [
    "#•람다(lambda) 함수 (or 축약 함수): https://wikidocs.net/64\n",
    "# ◾일반적인 함수를 한 줄의 문(Statement)으로 정의할 수 있는 새로운 함수 정의 리터럴\n",
    "#  ◦함수 몸체에는 식(expression)만이 올 수 있다. \n",
    "# ◾대부분의 경우 함수 이름을 정의하지 않으면서 일회성으로 활용할 함수를 정의할 때 활용\n",
    "# ◾구문(syntax)\n",
    "#  ◦lambda 콤마로 구분된 인수들: 식(expression)\n",
    "\n",
    "#1-1 람다 함수 정의 예\n",
    "#•인수가 한 개 있는 람다 함수\n",
    "f = lambda x: x + 1\n",
    "print (f(1))\n",
    "\n",
    "\n",
    "#•인수가 두 개 있는 람다 함수를 지니는 변수 지정 및 함수 호출\n",
    "g = lambda x, y: x + y\n",
    "print (g(1, 2))\n",
    "\n",
    "\n",
    "#•기본 인수를 지니는 람다 함수 정의\n",
    "incr = lambda x, inc = 1: x + inc\n",
    "print (incr(10)) #inc 기본 인수 값으로 1 사용\n",
    "print (incr(10, 5))\n",
    "\n",
    "\n",
    "#•가변 인수를 지니는 람다 함수 정의\n",
    "vargs = lambda x, *args: args\n",
    "print (vargs(1,2,3,4,5))"
   ]
  },
  {
   "cell_type": "code",
   "execution_count": 24,
   "metadata": {
    "collapsed": false
   },
   "outputs": [
    {
     "name": "stdout",
     "output_type": "stream",
     "text": [
      "[60, 44, 30, 18, 8, 0, -6, -10, -12, -12, -10, -6, 0, 8, 18, 30, 44, 60, 78, 98]\n",
      "[-1000, -729, -512, -343, -216, -125, -64, -27, -8, -1, 0, 1, 8, 27, 64, 125, 216, 343, 512, 729]\n"
     ]
    }
   ],
   "source": [
    "def f1(x):\n",
    "    return x*x + 3*x - 10\n",
    "\n",
    "def f2(x):\n",
    "    return x*x*x\n",
    "\n",
    "def g(func):\n",
    "    return [func(x) for x in range(-10, 10)]\n",
    "\n",
    "print (g(f1))\n",
    "print (g(f2))"
   ]
  },
  {
   "cell_type": "code",
   "execution_count": 25,
   "metadata": {
    "collapsed": false
   },
   "outputs": [
    {
     "name": "stdout",
     "output_type": "stream",
     "text": [
      "[60, 44, 30, 18, 8, 0, -6, -10, -12, -12, -10, -6, 0, 8, 18, 30, 44, 60, 78, 98]\n",
      "[-1000, -729, -512, -343, -216, -125, -64, -27, -8, -1, 0, 1, 8, 27, 64, 125, 216, 343, 512, 729]\n"
     ]
    }
   ],
   "source": [
    "def g(func):\n",
    "    return [func(x) for x in range(-10, 10)]\n",
    "\n",
    "print (g(lambda x: x*x + 3*x - 10))\n",
    "print (g(lambda x: x*x*x))"
   ]
  },
  {
   "cell_type": "code",
   "execution_count": 27,
   "metadata": {
    "collapsed": false
   },
   "outputs": [
    {
     "name": "stdout",
     "output_type": "stream",
     "text": [
      "0. add\n",
      "1. sub\n",
      "2. mul\n",
      "3. div\n",
      "4. quit\n",
      "Select menu:1\n"
     ]
    },
    {
     "ename": "TypeError",
     "evalue": "'<' not supported between instances of 'str' and 'int'",
     "traceback": [
      "\u001b[0;31m---------------------------------------------------------------------------\u001b[0m",
      "\u001b[0;31mTypeError\u001b[0m                                 Traceback (most recent call last)",
      "\u001b[0;32m<ipython-input-27-4695e00a4409>\u001b[0m in \u001b[0;36m<module>\u001b[0;34m()\u001b[0m\n\u001b[1;32m     13\u001b[0m \u001b[1;32mwhile\u001b[0m \u001b[1;36m1\u001b[0m\u001b[1;33m:\u001b[0m\u001b[1;33m\u001b[0m\u001b[0m\n\u001b[1;32m     14\u001b[0m     \u001b[0msel\u001b[0m \u001b[1;33m=\u001b[0m \u001b[0mmenu\u001b[0m\u001b[1;33m(\u001b[0m\u001b[1;33m)\u001b[0m\u001b[1;33m\u001b[0m\u001b[0m\n\u001b[0;32m---> 15\u001b[0;31m     \u001b[1;32mif\u001b[0m \u001b[0msel\u001b[0m \u001b[1;33m<\u001b[0m \u001b[1;36m0\u001b[0m \u001b[1;32mor\u001b[0m \u001b[0msel\u001b[0m \u001b[1;33m>\u001b[0m \u001b[0mlen\u001b[0m\u001b[1;33m(\u001b[0m\u001b[0mfunc\u001b[0m\u001b[1;33m)\u001b[0m\u001b[1;33m:\u001b[0m\u001b[1;33m\u001b[0m\u001b[0m\n\u001b[0m\u001b[1;32m     16\u001b[0m         \u001b[1;32mcontinue\u001b[0m\u001b[1;33m\u001b[0m\u001b[0m\n\u001b[1;32m     17\u001b[0m     \u001b[1;32mif\u001b[0m \u001b[0msel\u001b[0m \u001b[1;33m==\u001b[0m \u001b[0mlen\u001b[0m\u001b[1;33m(\u001b[0m\u001b[0mfunc\u001b[0m\u001b[1;33m)\u001b[0m\u001b[1;33m:\u001b[0m\u001b[1;33m\u001b[0m\u001b[0m\n",
      "\u001b[0;31mTypeError\u001b[0m: '<' not supported between instances of 'str' and 'int'"
     ],
     "output_type": "error"
    }
   ],
   "source": [
    "#•람다 함수를 사용하는 코드 예제\n",
    "# 더하기, 빼기, 곱하기, 나누기에 해당하는 람다 함수 리스트 정의\n",
    "func = [lambda x, y: x + y, lambda x, y: x - y, lambda x, y: x * y, lambda x, y: x / y]\n",
    "\n",
    "def menu():\n",
    "    print (\"0. add\")\n",
    "    print (\"1. sub\")\n",
    "    print (\"2. mul\")\n",
    "    print (\"3. div\")\n",
    "    print (\"4. quit\")\n",
    "    return input('Select menu:')\n",
    "\n",
    "while 1:\n",
    "    sel = menu()                     \n",
    "    if sel < 0 or sel > len(func):   \n",
    "        continue\n",
    "    if sel == len(func):             \n",
    "        break\n",
    "    x = input('First operand:')      \n",
    "    y = input('Second operand:')     \n",
    "    print ('Result =', func[sel](x,y))"
   ]
  },
  {
   "cell_type": "code",
   "execution_count": 28,
   "metadata": {
    "collapsed": false
   },
   "outputs": [
    {
     "name": "stdout",
     "output_type": "stream",
     "text": [
      "<map object at 0x0000021BB30AC208>\n",
      "[1, 4, 9, 16, 25]\n",
      "<map object at 0x0000021BB30AC320>\n",
      "<map object at 0x0000021BB30AC358>\n",
      "<map object at 0x0000021BB30AC320>\n"
     ]
    }
   ],
   "source": [
    "#•map, filter, reduce 내장 함수\n",
    "# ◾첫번째 인자: function\n",
    "#  ◦첫번째 일반적으로 람다 함수를 인자로 받는다.\n",
    "# ◾두번째 인자: 시퀀스 자료형 (문자열, 리스트, 튜플)\n",
    "\n",
    "#  •map(function, seq)\n",
    "# ◾seq 시퀀스 자료형이 지닌 각 원소값들에 대해 function에 적용한 결과를 동일 시퀀스 자료형으로 반환한다.\n",
    "\n",
    "def f(x):\n",
    "    return x * x\n",
    "\n",
    "X = [1, 2, 3, 4, 5]\n",
    "Y = map(f, X)\n",
    "print (Y)\n",
    "\n",
    "\n",
    "#•map 내장 함수를 사용하지 않을 때 코드\n",
    "def f(x):\n",
    "    return x * x\n",
    "\n",
    "X = [1, 2, 3, 4, 5]\n",
    "Y = []\n",
    "for x in X:\n",
    "    y = f(x)\n",
    "    Y.append(y)\n",
    "print (Y)\n",
    "\n",
    "\n",
    "#•map과 람다 함수를 동시에 사용하는 코드 (가장 추천하는 코드)\n",
    "X = [1, 2, 3, 4, 5]\n",
    "print (map(lambda x: x * x, X))\n",
    "\n",
    "\n",
    "#•range(10)의 모든 값 x에 대해 f = x * x + 4 * x + 5의 계산 결과를 리스트로 구함\n",
    "Y = map(lambda x: x * x + 4 * x + 5, range(10))\n",
    "print (Y)\n",
    "\n",
    "\n",
    "#•각 단어들의 길이 리스트\n",
    "y = map(lambda x: len(x), [\"Hello\", \"Python\", \"Programming\"])\n",
    "print (y)"
   ]
  },
  {
   "cell_type": "code",
   "execution_count": 29,
   "metadata": {
    "collapsed": false
   },
   "outputs": [
    {
     "name": "stdout",
     "output_type": "stream",
     "text": [
      "<filter object at 0x0000021BB30BE8D0>\n",
      "[3, 34]\n",
      "<filter object at 0x0000021BB30BE898>\n",
      "<filter object at 0x0000021BB30BE898>\n",
      "<filter object at 0x0000021BB30BE898>\n",
      "<filter object at 0x0000021BB30BEB38>\n",
      "<filter object at 0x0000021BB309B978>\n",
      "<filter object at 0x0000021BB309BB38>\n"
     ]
    }
   ],
   "source": [
    "#•filter(function, seq)\n",
    "#◾seq 시퀀스 자료형이 지닌 각 원소값들에 대해 function에 적용한 결과가 참인 원소값들만을 동일 시퀀스 자료형으로 반환한다.\n",
    "\n",
    "print (filter(lambda x: x > 2, [1, 2, 3, 34]))\n",
    "\n",
    "#•위 코드는 아래와 동일하다.\n",
    "y = []\n",
    "for x in [1, 2, 3, 34]:\n",
    "    if x > 2:\n",
    "        y.append(x)\n",
    "print (y)\n",
    "\n",
    "\n",
    "#•주어진 시퀀스 내에 있는 정수중 홀수만 필터링\n",
    "print (filter(lambda x: x % 2, [1, 2, 3, 4, 5, 6]))\n",
    "\n",
    "\n",
    "#•주어진 시퀀스 내에 있는 정수중 짝수만 필터링\n",
    "print (filter(lambda x: x % 2 - 1, [1, 2, 3, 4, 5, 6]))\n",
    "\n",
    "\n",
    "#•특정 범위에 있는 정수만 필터링\n",
    "def F():\n",
    "    x = 1\n",
    "    print (filter(lambda a: a > x, range(-5, 5)))\n",
    "    \n",
    "F()\n",
    "\n",
    "\n",
    "#•filter의 결과는 주어진 seq 자료형과 동일함\n",
    "print (filter(lambda x: x > 2, [1, 2, 3, 34]))\n",
    "print (filter(lambda x: x > 2, (1, 2, 3, 34)))\n",
    "print (filter(lambda x: x < 'a', 'abcABCdefDEF'))"
   ]
  },
  {
   "cell_type": "code",
   "execution_count": 30,
   "metadata": {
    "collapsed": false
   },
   "outputs": [
    {
     "ename": "NameError",
     "evalue": "name 'reduce' is not defined",
     "traceback": [
      "\u001b[0;31m---------------------------------------------------------------------------\u001b[0m",
      "\u001b[0;31mNameError\u001b[0m                                 Traceback (most recent call last)",
      "\u001b[0;32m<ipython-input-30-2658bc85f8de>\u001b[0m in \u001b[0;36m<module>\u001b[0;34m()\u001b[0m\n\u001b[1;32m      6\u001b[0m \u001b[1;33m\u001b[0m\u001b[0m\n\u001b[1;32m      7\u001b[0m \u001b[1;31m#◾추가적으로 제공가능한 세번째 인자인 initial은 첫번째 단계에 x에 할당할 초기값으로 사용된다.\u001b[0m\u001b[1;33m\u001b[0m\u001b[1;33m\u001b[0m\u001b[0m\n\u001b[0;32m----> 8\u001b[0;31m \u001b[0mprint\u001b[0m \u001b[1;33m(\u001b[0m\u001b[0mreduce\u001b[0m\u001b[1;33m(\u001b[0m\u001b[1;32mlambda\u001b[0m \u001b[0mx\u001b[0m\u001b[1;33m,\u001b[0m \u001b[0my\u001b[0m\u001b[1;33m:\u001b[0m \u001b[0mx\u001b[0m \u001b[1;33m+\u001b[0m \u001b[0my\u001b[0m\u001b[1;33m,\u001b[0m \u001b[1;33m[\u001b[0m\u001b[1;36m1\u001b[0m\u001b[1;33m,\u001b[0m \u001b[1;36m2\u001b[0m\u001b[1;33m,\u001b[0m \u001b[1;36m3\u001b[0m\u001b[1;33m,\u001b[0m \u001b[1;36m4\u001b[0m\u001b[1;33m,\u001b[0m \u001b[1;36m5\u001b[0m\u001b[1;33m]\u001b[0m\u001b[1;33m)\u001b[0m\u001b[1;33m)\u001b[0m\u001b[1;33m\u001b[0m\u001b[0m\n\u001b[0m\u001b[1;32m      9\u001b[0m \u001b[1;33m\u001b[0m\u001b[0m\n\u001b[1;32m     10\u001b[0m \u001b[1;33m\u001b[0m\u001b[0m\n",
      "\u001b[0;31mNameError\u001b[0m: name 'reduce' is not defined"
     ],
     "output_type": "error"
    }
   ],
   "source": [
    "#•reduce (function, seq[, initial])\n",
    "# ◾seq 시퀀스 자료형이 지닌 원소값들에 대해 function 함수를 적용하면서 하나의 값으로 매핑한다.\n",
    "# ◾첫번째 인자인 function 함수는 반드시 두 개의 인자 (예를 들어, x, y)를 받아야 한다.\n",
    "#  ◦seq 시퀀스 자료형의 각 원소값들은 각 단계별로 y에 순차적으로 들어간다. \n",
    "#  ◦함수가 수행된 값은 각 단계별로 x에 순차적으로 들어간다.\n",
    "\n",
    "#◾추가적으로 제공가능한 세번째 인자인 initial은 첫번째 단계에 x에 할당할 초기값으로 사용된다. \n",
    "print (reduce(lambda x, y: x + y, [1, 2, 3, 4, 5]))\n",
    "\n",
    "\n",
    "#•initial 값 할당\n",
    "print (reduce(lambda x, y: x + y, [1, 2, 3, 4, 5], 100))\n",
    "\n",
    "\n",
    "#•1부터 10까지 각 수에 대한 제곱값을 모두 더한 결과 구함\n",
    "print (reduce(lambda x, y: x + y * y, range(1, 11), 0))\n",
    "\n",
    "\n",
    "x = 0\n",
    "for y in range(1, 11):\n",
    "    x = x + y * y\n",
    "print (x)\n",
    "\n",
    "\n",
    "#•문자열 순서 뒤집기\n",
    "print (reduce(lambda x, y: y + x, 'abcde'))"
   ]
  }
 ],
 "metadata": {
  "kernelspec": {
   "display_name": "Python 3",
   "language": "python",
   "name": "python3"
  },
  "language_info": {
   "codemirror_mode": {
    "name": "ipython",
    "version": 3
   },
   "file_extension": ".py",
   "mimetype": "text/x-python",
   "name": "python",
   "nbconvert_exporter": "python",
   "pygments_lexer": "ipython3",
   "version": "3.6.0"
  }
 },
 "nbformat": 4,
 "nbformat_minor": 2
}
